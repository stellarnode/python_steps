{
 "cells": [
  {
   "cell_type": "code",
   "execution_count": 1,
   "metadata": {},
   "outputs": [],
   "source": [
    "import numpy as np\n",
    "import pandas as pd\n",
    "import matplotlib.pyplot as plt\n",
    "%matplotlib inline\n",
    "\n",
    "from datetime import datetime"
   ]
  },
  {
   "cell_type": "code",
   "execution_count": 2,
   "metadata": {},
   "outputs": [],
   "source": [
    "report = pd.read_csv('/Users/stellarnode/OneDrive/MTS/mts innovation center/partners/voximplant/reports/call_history_2018-01-01_(425318).csv', delimiter = ';', low_memory = False)"
   ]
  },
  {
   "cell_type": "code",
   "execution_count": 3,
   "metadata": {},
   "outputs": [],
   "source": [
    "# call_duration is quoted in seconds!"
   ]
  },
  {
   "cell_type": "code",
   "execution_count": 4,
   "metadata": {},
   "outputs": [
    {
     "data": {
      "text/html": [
       "<div>\n",
       "<style scoped>\n",
       "    .dataframe tbody tr th:only-of-type {\n",
       "        vertical-align: middle;\n",
       "    }\n",
       "\n",
       "    .dataframe tbody tr th {\n",
       "        vertical-align: top;\n",
       "    }\n",
       "\n",
       "    .dataframe thead th {\n",
       "        text-align: right;\n",
       "    }\n",
       "</style>\n",
       "<table border=\"1\" class=\"dataframe\">\n",
       "  <thead>\n",
       "    <tr style=\"text-align: right;\">\n",
       "      <th></th>\n",
       "      <th>session_id</th>\n",
       "      <th>account_id</th>\n",
       "      <th>application_id</th>\n",
       "      <th>user_id</th>\n",
       "      <th>session_start_date (Etc/GMT)</th>\n",
       "      <th>session_duration</th>\n",
       "      <th>session_rule_name</th>\n",
       "      <th>session_initiator_address</th>\n",
       "      <th>session_media_server_address</th>\n",
       "      <th>session_log_file_url</th>\n",
       "      <th>...</th>\n",
       "      <th>record_start_time</th>\n",
       "      <th>record_duration</th>\n",
       "      <th>record_cost</th>\n",
       "      <th>record_transaction_id</th>\n",
       "      <th>record_name</th>\n",
       "      <th>record_url</th>\n",
       "      <th>transcription_url</th>\n",
       "      <th>transcription_status</th>\n",
       "      <th>record_file_size</th>\n",
       "      <th>record_removed</th>\n",
       "    </tr>\n",
       "  </thead>\n",
       "  <tbody>\n",
       "    <tr>\n",
       "      <th>0</th>\n",
       "      <td>448879801</td>\n",
       "      <td>1930006</td>\n",
       "      <td>3732648</td>\n",
       "      <td>1336191</td>\n",
       "      <td>2018-12-27 09:02:46</td>\n",
       "      <td>601.0</td>\n",
       "      <td>Main</td>\n",
       "      <td>217.69.194.190</td>\n",
       "      <td>185.164.148.236</td>\n",
       "      <td>http://www-ru-19-236.voximplant.com/logs/2018/...</td>\n",
       "      <td>...</td>\n",
       "      <td>2018-12-27 09:02:46</td>\n",
       "      <td>599.0</td>\n",
       "      <td>9,572042</td>\n",
       "      <td>8.609255e+09</td>\n",
       "      <td>Call Recorder</td>\n",
       "      <td>https://storage-ru1-radosgw2.voximplant.com/vo...</td>\n",
       "      <td>NaN</td>\n",
       "      <td>Not required</td>\n",
       "      <td>120563.0</td>\n",
       "      <td>no</td>\n",
       "    </tr>\n",
       "    <tr>\n",
       "      <th>1</th>\n",
       "      <td>448879801</td>\n",
       "      <td>1930006</td>\n",
       "      <td>3732648</td>\n",
       "      <td>1336191</td>\n",
       "      <td>2018-12-27 09:02:46</td>\n",
       "      <td>NaN</td>\n",
       "      <td>NaN</td>\n",
       "      <td>NaN</td>\n",
       "      <td>NaN</td>\n",
       "      <td>NaN</td>\n",
       "      <td>...</td>\n",
       "      <td>NaN</td>\n",
       "      <td>NaN</td>\n",
       "      <td>NaN</td>\n",
       "      <td>NaN</td>\n",
       "      <td>NaN</td>\n",
       "      <td>NaN</td>\n",
       "      <td>NaN</td>\n",
       "      <td>NaN</td>\n",
       "      <td>NaN</td>\n",
       "      <td>NaN</td>\n",
       "    </tr>\n",
       "    <tr>\n",
       "      <th>2</th>\n",
       "      <td>448879801</td>\n",
       "      <td>1930006</td>\n",
       "      <td>3732648</td>\n",
       "      <td>1336191</td>\n",
       "      <td>2018-12-27 09:02:46</td>\n",
       "      <td>NaN</td>\n",
       "      <td>NaN</td>\n",
       "      <td>NaN</td>\n",
       "      <td>NaN</td>\n",
       "      <td>NaN</td>\n",
       "      <td>...</td>\n",
       "      <td>NaN</td>\n",
       "      <td>NaN</td>\n",
       "      <td>NaN</td>\n",
       "      <td>NaN</td>\n",
       "      <td>NaN</td>\n",
       "      <td>NaN</td>\n",
       "      <td>NaN</td>\n",
       "      <td>NaN</td>\n",
       "      <td>NaN</td>\n",
       "      <td>NaN</td>\n",
       "    </tr>\n",
       "    <tr>\n",
       "      <th>3</th>\n",
       "      <td>448879801</td>\n",
       "      <td>1930006</td>\n",
       "      <td>3732648</td>\n",
       "      <td>1336191</td>\n",
       "      <td>2018-12-27 09:02:46</td>\n",
       "      <td>NaN</td>\n",
       "      <td>NaN</td>\n",
       "      <td>NaN</td>\n",
       "      <td>NaN</td>\n",
       "      <td>NaN</td>\n",
       "      <td>...</td>\n",
       "      <td>NaN</td>\n",
       "      <td>NaN</td>\n",
       "      <td>NaN</td>\n",
       "      <td>NaN</td>\n",
       "      <td>NaN</td>\n",
       "      <td>NaN</td>\n",
       "      <td>NaN</td>\n",
       "      <td>NaN</td>\n",
       "      <td>NaN</td>\n",
       "      <td>NaN</td>\n",
       "    </tr>\n",
       "    <tr>\n",
       "      <th>4</th>\n",
       "      <td>448879801</td>\n",
       "      <td>1930006</td>\n",
       "      <td>3732648</td>\n",
       "      <td>1336191</td>\n",
       "      <td>2018-12-27 09:02:46</td>\n",
       "      <td>NaN</td>\n",
       "      <td>NaN</td>\n",
       "      <td>NaN</td>\n",
       "      <td>NaN</td>\n",
       "      <td>NaN</td>\n",
       "      <td>...</td>\n",
       "      <td>NaN</td>\n",
       "      <td>NaN</td>\n",
       "      <td>NaN</td>\n",
       "      <td>NaN</td>\n",
       "      <td>NaN</td>\n",
       "      <td>NaN</td>\n",
       "      <td>NaN</td>\n",
       "      <td>NaN</td>\n",
       "      <td>NaN</td>\n",
       "      <td>NaN</td>\n",
       "    </tr>\n",
       "    <tr>\n",
       "      <th>5</th>\n",
       "      <td>448850297</td>\n",
       "      <td>1930006</td>\n",
       "      <td>3732648</td>\n",
       "      <td>1336191</td>\n",
       "      <td>2018-12-27 08:50:00</td>\n",
       "      <td>507.0</td>\n",
       "      <td>Main</td>\n",
       "      <td>217.69.194.190</td>\n",
       "      <td>185.164.148.248</td>\n",
       "      <td>http://www-ru-12-248.voximplant.com/logs/2018/...</td>\n",
       "      <td>...</td>\n",
       "      <td>2018-12-27 08:50:01</td>\n",
       "      <td>506.0</td>\n",
       "      <td>8,030781</td>\n",
       "      <td>8.608838e+09</td>\n",
       "      <td>Call Recorder</td>\n",
       "      <td>https://storage-ru1-radosgw2.voximplant.com/vo...</td>\n",
       "      <td>NaN</td>\n",
       "      <td>Not required</td>\n",
       "      <td>101032.0</td>\n",
       "      <td>no</td>\n",
       "    </tr>\n",
       "    <tr>\n",
       "      <th>6</th>\n",
       "      <td>448850297</td>\n",
       "      <td>1930006</td>\n",
       "      <td>3732648</td>\n",
       "      <td>1336191</td>\n",
       "      <td>2018-12-27 08:50:00</td>\n",
       "      <td>NaN</td>\n",
       "      <td>NaN</td>\n",
       "      <td>NaN</td>\n",
       "      <td>NaN</td>\n",
       "      <td>NaN</td>\n",
       "      <td>...</td>\n",
       "      <td>NaN</td>\n",
       "      <td>NaN</td>\n",
       "      <td>NaN</td>\n",
       "      <td>NaN</td>\n",
       "      <td>NaN</td>\n",
       "      <td>NaN</td>\n",
       "      <td>NaN</td>\n",
       "      <td>NaN</td>\n",
       "      <td>NaN</td>\n",
       "      <td>NaN</td>\n",
       "    </tr>\n",
       "    <tr>\n",
       "      <th>7</th>\n",
       "      <td>448850297</td>\n",
       "      <td>1930006</td>\n",
       "      <td>3732648</td>\n",
       "      <td>1336191</td>\n",
       "      <td>2018-12-27 08:50:00</td>\n",
       "      <td>NaN</td>\n",
       "      <td>NaN</td>\n",
       "      <td>NaN</td>\n",
       "      <td>NaN</td>\n",
       "      <td>NaN</td>\n",
       "      <td>...</td>\n",
       "      <td>NaN</td>\n",
       "      <td>NaN</td>\n",
       "      <td>NaN</td>\n",
       "      <td>NaN</td>\n",
       "      <td>NaN</td>\n",
       "      <td>NaN</td>\n",
       "      <td>NaN</td>\n",
       "      <td>NaN</td>\n",
       "      <td>NaN</td>\n",
       "      <td>NaN</td>\n",
       "    </tr>\n",
       "    <tr>\n",
       "      <th>8</th>\n",
       "      <td>448850297</td>\n",
       "      <td>1930006</td>\n",
       "      <td>3732648</td>\n",
       "      <td>1336191</td>\n",
       "      <td>2018-12-27 08:50:00</td>\n",
       "      <td>NaN</td>\n",
       "      <td>NaN</td>\n",
       "      <td>NaN</td>\n",
       "      <td>NaN</td>\n",
       "      <td>NaN</td>\n",
       "      <td>...</td>\n",
       "      <td>NaN</td>\n",
       "      <td>NaN</td>\n",
       "      <td>NaN</td>\n",
       "      <td>NaN</td>\n",
       "      <td>NaN</td>\n",
       "      <td>NaN</td>\n",
       "      <td>NaN</td>\n",
       "      <td>NaN</td>\n",
       "      <td>NaN</td>\n",
       "      <td>NaN</td>\n",
       "    </tr>\n",
       "    <tr>\n",
       "      <th>9</th>\n",
       "      <td>448850297</td>\n",
       "      <td>1930006</td>\n",
       "      <td>3732648</td>\n",
       "      <td>1336191</td>\n",
       "      <td>2018-12-27 08:50:00</td>\n",
       "      <td>NaN</td>\n",
       "      <td>NaN</td>\n",
       "      <td>NaN</td>\n",
       "      <td>NaN</td>\n",
       "      <td>NaN</td>\n",
       "      <td>...</td>\n",
       "      <td>NaN</td>\n",
       "      <td>NaN</td>\n",
       "      <td>NaN</td>\n",
       "      <td>NaN</td>\n",
       "      <td>NaN</td>\n",
       "      <td>NaN</td>\n",
       "      <td>NaN</td>\n",
       "      <td>NaN</td>\n",
       "      <td>NaN</td>\n",
       "      <td>NaN</td>\n",
       "    </tr>\n",
       "  </tbody>\n",
       "</table>\n",
       "<p>10 rows × 45 columns</p>\n",
       "</div>"
      ],
      "text/plain": [
       "   session_id  account_id  application_id  user_id  \\\n",
       "0   448879801     1930006         3732648  1336191   \n",
       "1   448879801     1930006         3732648  1336191   \n",
       "2   448879801     1930006         3732648  1336191   \n",
       "3   448879801     1930006         3732648  1336191   \n",
       "4   448879801     1930006         3732648  1336191   \n",
       "5   448850297     1930006         3732648  1336191   \n",
       "6   448850297     1930006         3732648  1336191   \n",
       "7   448850297     1930006         3732648  1336191   \n",
       "8   448850297     1930006         3732648  1336191   \n",
       "9   448850297     1930006         3732648  1336191   \n",
       "\n",
       "  session_start_date (Etc/GMT)  session_duration session_rule_name  \\\n",
       "0          2018-12-27 09:02:46             601.0              Main   \n",
       "1          2018-12-27 09:02:46               NaN               NaN   \n",
       "2          2018-12-27 09:02:46               NaN               NaN   \n",
       "3          2018-12-27 09:02:46               NaN               NaN   \n",
       "4          2018-12-27 09:02:46               NaN               NaN   \n",
       "5          2018-12-27 08:50:00             507.0              Main   \n",
       "6          2018-12-27 08:50:00               NaN               NaN   \n",
       "7          2018-12-27 08:50:00               NaN               NaN   \n",
       "8          2018-12-27 08:50:00               NaN               NaN   \n",
       "9          2018-12-27 08:50:00               NaN               NaN   \n",
       "\n",
       "  session_initiator_address session_media_server_address  \\\n",
       "0            217.69.194.190              185.164.148.236   \n",
       "1                       NaN                          NaN   \n",
       "2                       NaN                          NaN   \n",
       "3                       NaN                          NaN   \n",
       "4                       NaN                          NaN   \n",
       "5            217.69.194.190              185.164.148.248   \n",
       "6                       NaN                          NaN   \n",
       "7                       NaN                          NaN   \n",
       "8                       NaN                          NaN   \n",
       "9                       NaN                          NaN   \n",
       "\n",
       "                                session_log_file_url       ...        \\\n",
       "0  http://www-ru-19-236.voximplant.com/logs/2018/...       ...         \n",
       "1                                                NaN       ...         \n",
       "2                                                NaN       ...         \n",
       "3                                                NaN       ...         \n",
       "4                                                NaN       ...         \n",
       "5  http://www-ru-12-248.voximplant.com/logs/2018/...       ...         \n",
       "6                                                NaN       ...         \n",
       "7                                                NaN       ...         \n",
       "8                                                NaN       ...         \n",
       "9                                                NaN       ...         \n",
       "\n",
       "     record_start_time record_duration  record_cost record_transaction_id  \\\n",
       "0  2018-12-27 09:02:46           599.0     9,572042          8.609255e+09   \n",
       "1                  NaN             NaN          NaN                   NaN   \n",
       "2                  NaN             NaN          NaN                   NaN   \n",
       "3                  NaN             NaN          NaN                   NaN   \n",
       "4                  NaN             NaN          NaN                   NaN   \n",
       "5  2018-12-27 08:50:01           506.0     8,030781          8.608838e+09   \n",
       "6                  NaN             NaN          NaN                   NaN   \n",
       "7                  NaN             NaN          NaN                   NaN   \n",
       "8                  NaN             NaN          NaN                   NaN   \n",
       "9                  NaN             NaN          NaN                   NaN   \n",
       "\n",
       "     record_name                                         record_url  \\\n",
       "0  Call Recorder  https://storage-ru1-radosgw2.voximplant.com/vo...   \n",
       "1            NaN                                                NaN   \n",
       "2            NaN                                                NaN   \n",
       "3            NaN                                                NaN   \n",
       "4            NaN                                                NaN   \n",
       "5  Call Recorder  https://storage-ru1-radosgw2.voximplant.com/vo...   \n",
       "6            NaN                                                NaN   \n",
       "7            NaN                                                NaN   \n",
       "8            NaN                                                NaN   \n",
       "9            NaN                                                NaN   \n",
       "\n",
       "   transcription_url transcription_status record_file_size  record_removed  \n",
       "0                NaN         Not required         120563.0              no  \n",
       "1                NaN                  NaN              NaN             NaN  \n",
       "2                NaN                  NaN              NaN             NaN  \n",
       "3                NaN                  NaN              NaN             NaN  \n",
       "4                NaN                  NaN              NaN             NaN  \n",
       "5                NaN         Not required         101032.0              no  \n",
       "6                NaN                  NaN              NaN             NaN  \n",
       "7                NaN                  NaN              NaN             NaN  \n",
       "8                NaN                  NaN              NaN             NaN  \n",
       "9                NaN                  NaN              NaN             NaN  \n",
       "\n",
       "[10 rows x 45 columns]"
      ]
     },
     "execution_count": 4,
     "metadata": {},
     "output_type": "execute_result"
    }
   ],
   "source": [
    "report.head(10)"
   ]
  },
  {
   "cell_type": "code",
   "execution_count": 5,
   "metadata": {},
   "outputs": [
    {
     "data": {
      "text/html": [
       "<div>\n",
       "<style scoped>\n",
       "    .dataframe tbody tr th:only-of-type {\n",
       "        vertical-align: middle;\n",
       "    }\n",
       "\n",
       "    .dataframe tbody tr th {\n",
       "        vertical-align: top;\n",
       "    }\n",
       "\n",
       "    .dataframe thead th {\n",
       "        text-align: right;\n",
       "    }\n",
       "</style>\n",
       "<table border=\"1\" class=\"dataframe\">\n",
       "  <thead>\n",
       "    <tr style=\"text-align: right;\">\n",
       "      <th></th>\n",
       "      <th>session_id</th>\n",
       "      <th>account_id</th>\n",
       "      <th>application_id</th>\n",
       "      <th>user_id</th>\n",
       "      <th>session_duration</th>\n",
       "      <th>call_id</th>\n",
       "      <th>call_remote_number_type</th>\n",
       "      <th>call_duration</th>\n",
       "      <th>call_transaction_id</th>\n",
       "      <th>resource_id</th>\n",
       "      <th>resource_transaction_id</th>\n",
       "      <th>resource_quantity</th>\n",
       "      <th>resource_call_id</th>\n",
       "      <th>record_id</th>\n",
       "      <th>record_duration</th>\n",
       "      <th>record_transaction_id</th>\n",
       "      <th>transcription_url</th>\n",
       "      <th>record_file_size</th>\n",
       "    </tr>\n",
       "  </thead>\n",
       "  <tbody>\n",
       "    <tr>\n",
       "      <th>count</th>\n",
       "      <td>9.264470e+05</td>\n",
       "      <td>926447.0</td>\n",
       "      <td>9.264470e+05</td>\n",
       "      <td>9.264470e+05</td>\n",
       "      <td>425318.000000</td>\n",
       "      <td>8.504940e+05</td>\n",
       "      <td>850494.0</td>\n",
       "      <td>850494.000000</td>\n",
       "      <td>8.504940e+05</td>\n",
       "      <td>1.110200e+04</td>\n",
       "      <td>1.110200e+04</td>\n",
       "      <td>1.110200e+04</td>\n",
       "      <td>1.110200e+04</td>\n",
       "      <td>6.485100e+04</td>\n",
       "      <td>64851.000000</td>\n",
       "      <td>6.485100e+04</td>\n",
       "      <td>0.0</td>\n",
       "      <td>6.485100e+04</td>\n",
       "    </tr>\n",
       "    <tr>\n",
       "      <th>mean</th>\n",
       "      <td>3.546273e+08</td>\n",
       "      <td>1930006.0</td>\n",
       "      <td>4.527203e+06</td>\n",
       "      <td>9.557041e+05</td>\n",
       "      <td>26.363079</td>\n",
       "      <td>3.137125e+08</td>\n",
       "      <td>2.0</td>\n",
       "      <td>25.375209</td>\n",
       "      <td>7.014222e+09</td>\n",
       "      <td>1.800720e+07</td>\n",
       "      <td>7.071815e+09</td>\n",
       "      <td>1.823365e+05</td>\n",
       "      <td>3.169203e+08</td>\n",
       "      <td>7.393881e+07</td>\n",
       "      <td>128.870226</td>\n",
       "      <td>6.664278e+09</td>\n",
       "      <td>NaN</td>\n",
       "      <td>7.585896e+03</td>\n",
       "    </tr>\n",
       "    <tr>\n",
       "      <th>std</th>\n",
       "      <td>5.500713e+07</td>\n",
       "      <td>0.0</td>\n",
       "      <td>3.848089e+05</td>\n",
       "      <td>1.999361e+05</td>\n",
       "      <td>389.603960</td>\n",
       "      <td>5.022412e+07</td>\n",
       "      <td>0.0</td>\n",
       "      <td>389.568894</td>\n",
       "      <td>9.865920e+08</td>\n",
       "      <td>5.615438e+06</td>\n",
       "      <td>1.007727e+09</td>\n",
       "      <td>3.951293e+05</td>\n",
       "      <td>5.088458e+07</td>\n",
       "      <td>1.146026e+07</td>\n",
       "      <td>566.145709</td>\n",
       "      <td>9.493249e+08</td>\n",
       "      <td>NaN</td>\n",
       "      <td>7.828792e+04</td>\n",
       "    </tr>\n",
       "    <tr>\n",
       "      <th>min</th>\n",
       "      <td>1.816021e+07</td>\n",
       "      <td>1930006.0</td>\n",
       "      <td>3.732648e+06</td>\n",
       "      <td>3.739240e+05</td>\n",
       "      <td>0.000000</td>\n",
       "      <td>1.506279e+08</td>\n",
       "      <td>2.0</td>\n",
       "      <td>0.000000</td>\n",
       "      <td>2.187219e+08</td>\n",
       "      <td>8.746319e+06</td>\n",
       "      <td>2.188831e+08</td>\n",
       "      <td>1.000000e+00</td>\n",
       "      <td>2.318087e+08</td>\n",
       "      <td>5.862681e+07</td>\n",
       "      <td>0.000000</td>\n",
       "      <td>2.187218e+08</td>\n",
       "      <td>NaN</td>\n",
       "      <td>0.000000e+00</td>\n",
       "    </tr>\n",
       "    <tr>\n",
       "      <th>25%</th>\n",
       "      <td>3.054586e+08</td>\n",
       "      <td>1930006.0</td>\n",
       "      <td>4.713569e+06</td>\n",
       "      <td>7.568020e+05</td>\n",
       "      <td>0.000000</td>\n",
       "      <td>2.679835e+08</td>\n",
       "      <td>2.0</td>\n",
       "      <td>0.000000</td>\n",
       "      <td>6.127425e+09</td>\n",
       "      <td>1.280004e+07</td>\n",
       "      <td>6.204933e+09</td>\n",
       "      <td>2.794500e+03</td>\n",
       "      <td>2.717804e+08</td>\n",
       "      <td>6.400728e+07</td>\n",
       "      <td>0.000000</td>\n",
       "      <td>5.840517e+09</td>\n",
       "      <td>NaN</td>\n",
       "      <td>0.000000e+00</td>\n",
       "    </tr>\n",
       "    <tr>\n",
       "      <th>50%</th>\n",
       "      <td>3.467981e+08</td>\n",
       "      <td>1930006.0</td>\n",
       "      <td>4.713569e+06</td>\n",
       "      <td>9.426370e+05</td>\n",
       "      <td>0.000000</td>\n",
       "      <td>3.075538e+08</td>\n",
       "      <td>2.0</td>\n",
       "      <td>0.000000</td>\n",
       "      <td>6.921262e+09</td>\n",
       "      <td>1.848116e+07</td>\n",
       "      <td>7.092510e+09</td>\n",
       "      <td>2.501600e+04</td>\n",
       "      <td>3.161437e+08</td>\n",
       "      <td>6.975731e+07</td>\n",
       "      <td>0.000000</td>\n",
       "      <td>6.338457e+09</td>\n",
       "      <td>NaN</td>\n",
       "      <td>0.000000e+00</td>\n",
       "    </tr>\n",
       "    <tr>\n",
       "      <th>75%</th>\n",
       "      <td>4.054018e+08</td>\n",
       "      <td>1930006.0</td>\n",
       "      <td>4.713569e+06</td>\n",
       "      <td>1.098503e+06</td>\n",
       "      <td>1.000000</td>\n",
       "      <td>3.599831e+08</td>\n",
       "      <td>2.0</td>\n",
       "      <td>0.000000</td>\n",
       "      <td>7.922198e+09</td>\n",
       "      <td>2.326939e+07</td>\n",
       "      <td>8.001274e+09</td>\n",
       "      <td>1.868945e+05</td>\n",
       "      <td>3.644255e+08</td>\n",
       "      <td>8.269308e+07</td>\n",
       "      <td>0.000000</td>\n",
       "      <td>7.401566e+09</td>\n",
       "      <td>NaN</td>\n",
       "      <td>0.000000e+00</td>\n",
       "    </tr>\n",
       "    <tr>\n",
       "      <th>max</th>\n",
       "      <td>4.488798e+08</td>\n",
       "      <td>1930006.0</td>\n",
       "      <td>4.713569e+06</td>\n",
       "      <td>1.348751e+06</td>\n",
       "      <td>85876.000000</td>\n",
       "      <td>3.976274e+08</td>\n",
       "      <td>2.0</td>\n",
       "      <td>85875.000000</td>\n",
       "      <td>8.609255e+09</td>\n",
       "      <td>2.639506e+07</td>\n",
       "      <td>8.609255e+09</td>\n",
       "      <td>5.516175e+06</td>\n",
       "      <td>3.976274e+08</td>\n",
       "      <td>9.789942e+07</td>\n",
       "      <td>13634.000000</td>\n",
       "      <td>8.609255e+09</td>\n",
       "      <td>NaN</td>\n",
       "      <td>4.593939e+06</td>\n",
       "    </tr>\n",
       "  </tbody>\n",
       "</table>\n",
       "</div>"
      ],
      "text/plain": [
       "         session_id  account_id  application_id       user_id  \\\n",
       "count  9.264470e+05    926447.0    9.264470e+05  9.264470e+05   \n",
       "mean   3.546273e+08   1930006.0    4.527203e+06  9.557041e+05   \n",
       "std    5.500713e+07         0.0    3.848089e+05  1.999361e+05   \n",
       "min    1.816021e+07   1930006.0    3.732648e+06  3.739240e+05   \n",
       "25%    3.054586e+08   1930006.0    4.713569e+06  7.568020e+05   \n",
       "50%    3.467981e+08   1930006.0    4.713569e+06  9.426370e+05   \n",
       "75%    4.054018e+08   1930006.0    4.713569e+06  1.098503e+06   \n",
       "max    4.488798e+08   1930006.0    4.713569e+06  1.348751e+06   \n",
       "\n",
       "       session_duration       call_id  call_remote_number_type  call_duration  \\\n",
       "count     425318.000000  8.504940e+05                 850494.0  850494.000000   \n",
       "mean          26.363079  3.137125e+08                      2.0      25.375209   \n",
       "std          389.603960  5.022412e+07                      0.0     389.568894   \n",
       "min            0.000000  1.506279e+08                      2.0       0.000000   \n",
       "25%            0.000000  2.679835e+08                      2.0       0.000000   \n",
       "50%            0.000000  3.075538e+08                      2.0       0.000000   \n",
       "75%            1.000000  3.599831e+08                      2.0       0.000000   \n",
       "max        85876.000000  3.976274e+08                      2.0   85875.000000   \n",
       "\n",
       "       call_transaction_id   resource_id  resource_transaction_id  \\\n",
       "count         8.504940e+05  1.110200e+04             1.110200e+04   \n",
       "mean          7.014222e+09  1.800720e+07             7.071815e+09   \n",
       "std           9.865920e+08  5.615438e+06             1.007727e+09   \n",
       "min           2.187219e+08  8.746319e+06             2.188831e+08   \n",
       "25%           6.127425e+09  1.280004e+07             6.204933e+09   \n",
       "50%           6.921262e+09  1.848116e+07             7.092510e+09   \n",
       "75%           7.922198e+09  2.326939e+07             8.001274e+09   \n",
       "max           8.609255e+09  2.639506e+07             8.609255e+09   \n",
       "\n",
       "       resource_quantity  resource_call_id     record_id  record_duration  \\\n",
       "count       1.110200e+04      1.110200e+04  6.485100e+04     64851.000000   \n",
       "mean        1.823365e+05      3.169203e+08  7.393881e+07       128.870226   \n",
       "std         3.951293e+05      5.088458e+07  1.146026e+07       566.145709   \n",
       "min         1.000000e+00      2.318087e+08  5.862681e+07         0.000000   \n",
       "25%         2.794500e+03      2.717804e+08  6.400728e+07         0.000000   \n",
       "50%         2.501600e+04      3.161437e+08  6.975731e+07         0.000000   \n",
       "75%         1.868945e+05      3.644255e+08  8.269308e+07         0.000000   \n",
       "max         5.516175e+06      3.976274e+08  9.789942e+07     13634.000000   \n",
       "\n",
       "       record_transaction_id  transcription_url  record_file_size  \n",
       "count           6.485100e+04                0.0      6.485100e+04  \n",
       "mean            6.664278e+09                NaN      7.585896e+03  \n",
       "std             9.493249e+08                NaN      7.828792e+04  \n",
       "min             2.187218e+08                NaN      0.000000e+00  \n",
       "25%             5.840517e+09                NaN      0.000000e+00  \n",
       "50%             6.338457e+09                NaN      0.000000e+00  \n",
       "75%             7.401566e+09                NaN      0.000000e+00  \n",
       "max             8.609255e+09                NaN      4.593939e+06  "
      ]
     },
     "execution_count": 5,
     "metadata": {},
     "output_type": "execute_result"
    }
   ],
   "source": [
    "report.describe()"
   ]
  },
  {
   "cell_type": "code",
   "execution_count": 6,
   "metadata": {},
   "outputs": [
    {
     "data": {
      "text/plain": [
       "5994.850833333333"
      ]
     },
     "execution_count": 6,
     "metadata": {},
     "output_type": "execute_result"
    }
   ],
   "source": [
    "report['call_duration'].sum() / 60 / 60"
   ]
  },
  {
   "cell_type": "code",
   "execution_count": 7,
   "metadata": {},
   "outputs": [
    {
     "data": {
      "text/plain": [
       "5           NaN\n",
       "6           NaN\n",
       "7    9152703958\n",
       "8    3335554463\n",
       "9           NaN\n",
       "Name: call_remote_number, dtype: object"
      ]
     },
     "execution_count": 7,
     "metadata": {},
     "output_type": "execute_result"
    }
   ],
   "source": [
    "report[report['session_id'] == 448850297]['call_remote_number']"
   ]
  },
  {
   "cell_type": "code",
   "execution_count": 8,
   "metadata": {},
   "outputs": [
    {
     "data": {
      "text/plain": [
       "5           NaN\n",
       "6           NaN\n",
       "7    3335554463\n",
       "8    9152703958\n",
       "9           NaN\n",
       "Name: call_local_number, dtype: object"
      ]
     },
     "execution_count": 8,
     "metadata": {},
     "output_type": "execute_result"
    }
   ],
   "source": [
    "report[report['session_id'] == 448850297]['call_local_number']"
   ]
  },
  {
   "cell_type": "code",
   "execution_count": 9,
   "metadata": {},
   "outputs": [
    {
     "name": "stdout",
     "output_type": "stream",
     "text": [
      "<class 'pandas.core.frame.DataFrame'>\n",
      "RangeIndex: 926447 entries, 0 to 926446\n",
      "Data columns (total 45 columns):\n",
      "session_id                      926447 non-null int64\n",
      "account_id                      926447 non-null int64\n",
      "application_id                  926447 non-null int64\n",
      "user_id                         926447 non-null int64\n",
      "session_start_date (Etc/GMT)    926447 non-null object\n",
      "session_duration                425318 non-null float64\n",
      "session_rule_name               425318 non-null object\n",
      "session_initiator_address       425318 non-null object\n",
      "session_media_server_address    425318 non-null object\n",
      "session_log_file_url            80929 non-null object\n",
      "session_custom_data             3231 non-null object\n",
      "session_finish_reason           425318 non-null object\n",
      "call_id                         850494 non-null float64\n",
      "call_remote_number              850494 non-null object\n",
      "call_remote_number_type         850494 non-null float64\n",
      "call_start_time                 850494 non-null object\n",
      "call_duration                   850494 non-null float64\n",
      "call_successful                 850494 non-null object\n",
      "call_incoming                   850494 non-null object\n",
      "call_transaction_id             850494 non-null float64\n",
      "call_direction                  45836 non-null object\n",
      "call_local_number               850494 non-null object\n",
      "call_record_url                 38761 non-null object\n",
      "call_cost                       850494 non-null object\n",
      "call_custom_data                3231 non-null object\n",
      "resource_id                     11102 non-null float64\n",
      "resource_type                   11102 non-null object\n",
      "resource_cost                   11102 non-null object\n",
      "resource_description            11102 non-null object\n",
      "resource_used_at                11102 non-null object\n",
      "resource_transaction_id         11102 non-null float64\n",
      "resource_unit                   11102 non-null object\n",
      "resource_quantity               11102 non-null float64\n",
      "resource_call_id                11102 non-null float64\n",
      "record_id                       64851 non-null float64\n",
      "record_start_time               64851 non-null object\n",
      "record_duration                 64851 non-null float64\n",
      "record_cost                     64851 non-null object\n",
      "record_transaction_id           64851 non-null float64\n",
      "record_name                     64851 non-null object\n",
      "record_url                      64851 non-null object\n",
      "transcription_url               0 non-null float64\n",
      "transcription_status            64851 non-null object\n",
      "record_file_size                64851 non-null float64\n",
      "record_removed                  64851 non-null object\n",
      "dtypes: float64(14), int64(4), object(27)\n",
      "memory usage: 318.1+ MB\n"
     ]
    }
   ],
   "source": [
    "report.info()"
   ]
  },
  {
   "cell_type": "code",
   "execution_count": 10,
   "metadata": {},
   "outputs": [
    {
     "data": {
      "text/plain": [
       "283       3300.0\n",
       "19314     3601.0\n",
       "44363     4058.0\n",
       "64859     4521.0\n",
       "100998      14.0\n",
       "101007    2084.0\n",
       "101012    1053.0\n",
       "113064     747.0\n",
       "113070       0.0\n",
       "113072       0.0\n",
       "113075       0.0\n",
       "113078       0.0\n",
       "113084    1424.0\n",
       "113086     101.0\n",
       "113094      15.0\n",
       "113099     172.0\n",
       "113104     233.0\n",
       "113107       0.0\n",
       "113112     138.0\n",
       "122686      25.0\n",
       "122691       0.0\n",
       "122695      26.0\n",
       "133370    2748.0\n",
       "133375       0.0\n",
       "133377       0.0\n",
       "133384     657.0\n",
       "144911    3062.0\n",
       "144914       0.0\n",
       "Name: call_duration, dtype: float64"
      ]
     },
     "execution_count": 10,
     "metadata": {},
     "output_type": "execute_result"
    }
   ],
   "source": [
    "report[report['call_local_number'] == '9851943407']['call_duration']"
   ]
  },
  {
   "cell_type": "code",
   "execution_count": 11,
   "metadata": {},
   "outputs": [
    {
     "data": {
      "text/plain": [
       "5994.850833333333"
      ]
     },
     "execution_count": 11,
     "metadata": {},
     "output_type": "execute_result"
    }
   ],
   "source": [
    "# total number of hours used\n",
    "report['call_duration'].sum() / 60 / 60"
   ]
  },
  {
   "cell_type": "code",
   "execution_count": 12,
   "metadata": {},
   "outputs": [
    {
     "data": {
      "text/plain": [
       "996344.2085"
      ]
     },
     "execution_count": 12,
     "metadata": {},
     "output_type": "execute_result"
    }
   ],
   "source": [
    "# cost in rubles @ 2.77 per minute WITHOUT volume discounts\n",
    "report['call_duration'].sum() / 60 * 2.77"
   ]
  },
  {
   "cell_type": "code",
   "execution_count": 13,
   "metadata": {},
   "outputs": [
    {
     "data": {
      "text/plain": [
       "str"
      ]
     },
     "execution_count": 13,
     "metadata": {},
     "output_type": "execute_result"
    }
   ],
   "source": [
    "type(report[\"session_start_date (Etc/GMT)\"][0])"
   ]
  },
  {
   "cell_type": "code",
   "execution_count": 14,
   "metadata": {},
   "outputs": [],
   "source": [
    "report['start_datetime'] = report[\"session_start_date (Etc/GMT)\"].apply(lambda x: datetime.fromisoformat(x))"
   ]
  },
  {
   "cell_type": "code",
   "execution_count": 15,
   "metadata": {},
   "outputs": [
    {
     "data": {
      "text/plain": [
       "Timestamp('2018-12-27 09:02:46')"
      ]
     },
     "execution_count": 15,
     "metadata": {},
     "output_type": "execute_result"
    }
   ],
   "source": [
    "report['start_datetime'][0]"
   ]
  },
  {
   "cell_type": "code",
   "execution_count": 25,
   "metadata": {},
   "outputs": [],
   "source": [
    "report['start_month'] = report['start_datetime'].apply(lambda x: x.month)"
   ]
  },
  {
   "cell_type": "code",
   "execution_count": 26,
   "metadata": {},
   "outputs": [],
   "source": [
    "# report['start_month'] = report['start_datetime'].apply(lambda x: str(x.month) + '-' + str(x.year))"
   ]
  },
  {
   "cell_type": "code",
   "execution_count": 27,
   "metadata": {},
   "outputs": [
    {
     "data": {
      "text/plain": [
       "start_month\n",
       "1        4.325833\n",
       "2       42.347500\n",
       "3       84.731111\n",
       "4      136.966389\n",
       "5      263.116944\n",
       "6      396.767500\n",
       "7     1019.730556\n",
       "8      667.571667\n",
       "9      814.699167\n",
       "10     750.394444\n",
       "11     907.834722\n",
       "12     906.365000\n",
       "Name: call_duration, dtype: float64"
      ]
     },
     "execution_count": 27,
     "metadata": {},
     "output_type": "execute_result"
    }
   ],
   "source": [
    "report.groupby('start_month')['call_duration'].sum() / 60 / 60"
   ]
  },
  {
   "cell_type": "code",
   "execution_count": 20,
   "metadata": {},
   "outputs": [
    {
     "data": {
      "text/plain": [
       "start_month\n",
       "1       0.000000\n",
       "2       0.000000\n",
       "3       0.000000\n",
       "4       0.000000\n",
       "5       0.000000\n",
       "6       0.000000\n",
       "7       0.000000\n",
       "8       0.000000\n",
       "9       0.000000\n",
       "10    118.011095\n",
       "11    163.515932\n",
       "12    187.635857\n",
       "Name: record_file_size, dtype: float64"
      ]
     },
     "execution_count": 20,
     "metadata": {},
     "output_type": "execute_result"
    }
   ],
   "source": [
    "report.groupby('start_month')['record_file_size'].sum() / 1024 / 1024"
   ]
  },
  {
   "cell_type": "code",
   "execution_count": null,
   "metadata": {},
   "outputs": [],
   "source": [
    "report.groupby('start_month')['call_duration'].sum()"
   ]
  },
  {
   "cell_type": "code",
   "execution_count": 20,
   "metadata": {},
   "outputs": [
    {
     "data": {
      "text/plain": [
       "call_local_number\n",
       "2005551230    202.003611\n",
       "9522758313    192.054444\n",
       "9788109423    175.392222\n",
       "9153752171    160.411111\n",
       "9788109419    150.335000\n",
       "2005551231    138.579167\n",
       "9152003638    120.615833\n",
       "9168403829    114.130000\n",
       "9687429202    101.489722\n",
       "9638710924     88.901944\n",
       "9267511375     83.042778\n",
       "6666655555     71.358056\n",
       "9855609354     70.604167\n",
       "1234567899     63.812500\n",
       "6666600001     62.349167\n",
       "2005551280     59.684167\n",
       "9137751162     59.513056\n",
       "9101341310     51.804167\n",
       "9151983949     51.331111\n",
       "9502260669     51.296667\n",
       "9859907395     50.893333\n",
       "9186501020     50.882778\n",
       "9265810752     49.837778\n",
       "9999922223     48.132778\n",
       "0000000001     47.630278\n",
       "1000006666     45.982778\n",
       "1000005555     45.947778\n",
       "9536080859     41.098611\n",
       "9999922221     40.806389\n",
       "2005551244     40.693611\n",
       "                 ...    \n",
       "9999999906      0.000000\n",
       "8888888869      0.000000\n",
       "66666222        0.000000\n",
       "9128662524      0.000000\n",
       "9999999910      0.000000\n",
       "9999999970      0.000000\n",
       "9999999994      0.000000\n",
       "9249356800      0.000000\n",
       "9152700120      0.000000\n",
       "9619633391      0.000000\n",
       "9199682900      0.000000\n",
       "9141790705      0.000000\n",
       "1234512026      0.000000\n",
       "9109059493      0.000000\n",
       "9160518344      0.000000\n",
       "9161144265      0.000000\n",
       "9851620248      0.000000\n",
       "9784444444      0.000000\n",
       "9780000221      0.000000\n",
       "1111111113      0.000000\n",
       "9780000062      0.000000\n",
       "9771826791      0.000000\n",
       "1110000021      0.000000\n",
       "1110000015      0.000000\n",
       "1110000014      0.000000\n",
       "3335554452      0.000000\n",
       "9082725420      0.000000\n",
       "9080590115      0.000000\n",
       "1110000006      0.000000\n",
       "9286313574      0.000000\n",
       "Name: call_duration, Length: 1204, dtype: float64"
      ]
     },
     "execution_count": 20,
     "metadata": {},
     "output_type": "execute_result"
    }
   ],
   "source": [
    "(report.groupby('call_local_number')['call_duration'].sum() / 60 / 60).sort_values(ascending = False)"
   ]
  },
  {
   "cell_type": "code",
   "execution_count": 23,
   "metadata": {},
   "outputs": [
    {
     "data": {
      "text/plain": [
       "session_rule_name\n",
       "Main     1495.333889\n",
       "test2     317.953889\n",
       "Name: call_duration, dtype: float64"
      ]
     },
     "execution_count": 23,
     "metadata": {},
     "output_type": "execute_result"
    }
   ],
   "source": [
    "report.groupby('session_rule_name')['call_duration'].sum() / 60 / 60"
   ]
  },
  {
   "cell_type": "code",
   "execution_count": 24,
   "metadata": {},
   "outputs": [
    {
     "data": {
      "text/plain": [
       "0    Main\n",
       "1     NaN\n",
       "2     NaN\n",
       "3     NaN\n",
       "4     NaN\n",
       "Name: session_rule_name, dtype: object"
      ]
     },
     "execution_count": 24,
     "metadata": {},
     "output_type": "execute_result"
    }
   ],
   "source": [
    "report['session_rule_name'].head()"
   ]
  },
  {
   "cell_type": "code",
   "execution_count": 26,
   "metadata": {},
   "outputs": [
    {
     "data": {
      "text/plain": [
       "491952940.0"
      ]
     },
     "execution_count": 26,
     "metadata": {},
     "output_type": "execute_result"
    }
   ],
   "source": [
    "report['record_file_size'].sum()"
   ]
  },
  {
   "cell_type": "code",
   "execution_count": 28,
   "metadata": {},
   "outputs": [
    {
     "data": {
      "text/html": [
       "<div>\n",
       "<style scoped>\n",
       "    .dataframe tbody tr th:only-of-type {\n",
       "        vertical-align: middle;\n",
       "    }\n",
       "\n",
       "    .dataframe tbody tr th {\n",
       "        vertical-align: top;\n",
       "    }\n",
       "\n",
       "    .dataframe thead th {\n",
       "        text-align: right;\n",
       "    }\n",
       "</style>\n",
       "<table border=\"1\" class=\"dataframe\">\n",
       "  <thead>\n",
       "    <tr style=\"text-align: right;\">\n",
       "      <th></th>\n",
       "      <th>session_initiator_address</th>\n",
       "      <th>session_media_server_address</th>\n",
       "    </tr>\n",
       "  </thead>\n",
       "  <tbody>\n",
       "    <tr>\n",
       "      <th>0</th>\n",
       "      <td>217.69.194.190</td>\n",
       "      <td>185.164.148.236</td>\n",
       "    </tr>\n",
       "    <tr>\n",
       "      <th>1</th>\n",
       "      <td>NaN</td>\n",
       "      <td>NaN</td>\n",
       "    </tr>\n",
       "    <tr>\n",
       "      <th>2</th>\n",
       "      <td>NaN</td>\n",
       "      <td>NaN</td>\n",
       "    </tr>\n",
       "    <tr>\n",
       "      <th>3</th>\n",
       "      <td>NaN</td>\n",
       "      <td>NaN</td>\n",
       "    </tr>\n",
       "    <tr>\n",
       "      <th>4</th>\n",
       "      <td>NaN</td>\n",
       "      <td>NaN</td>\n",
       "    </tr>\n",
       "  </tbody>\n",
       "</table>\n",
       "</div>"
      ],
      "text/plain": [
       "  session_initiator_address session_media_server_address\n",
       "0            217.69.194.190              185.164.148.236\n",
       "1                       NaN                          NaN\n",
       "2                       NaN                          NaN\n",
       "3                       NaN                          NaN\n",
       "4                       NaN                          NaN"
      ]
     },
     "execution_count": 28,
     "metadata": {},
     "output_type": "execute_result"
    }
   ],
   "source": [
    "report[['session_initiator_address', 'session_media_server_address']].head()"
   ]
  },
  {
   "cell_type": "code",
   "execution_count": 29,
   "metadata": {},
   "outputs": [
    {
     "data": {
      "text/plain": [
       "start_month\n",
       "1       2.163056\n",
       "2      21.175833\n",
       "3      42.367500\n",
       "4      68.484444\n",
       "5     131.559722\n",
       "6     128.652222\n",
       "7     412.901111\n",
       "8     212.294444\n",
       "9     233.228056\n",
       "10    186.187500\n",
       "11    203.223333\n",
       "12    171.050556\n",
       "Name: call_duration, dtype: float64"
      ]
     },
     "execution_count": 29,
     "metadata": {},
     "output_type": "execute_result"
    }
   ],
   "source": [
    "report[report['session_rule_name'].notnull()].groupby('start_month')['call_duration'].sum() / 60 / 60"
   ]
  },
  {
   "cell_type": "code",
   "execution_count": 32,
   "metadata": {},
   "outputs": [
    {
     "data": {
      "text/plain": [
       "1813.2877777777778"
      ]
     },
     "execution_count": 32,
     "metadata": {},
     "output_type": "execute_result"
    }
   ],
   "source": [
    "report[report['session_rule_name'].notnull()]['call_duration'].sum() / 60 / 60"
   ]
  },
  {
   "cell_type": "code",
   "execution_count": null,
   "metadata": {},
   "outputs": [],
   "source": []
  }
 ],
 "metadata": {
  "kernelspec": {
   "display_name": "Python 3",
   "language": "python",
   "name": "python3"
  },
  "language_info": {
   "codemirror_mode": {
    "name": "ipython",
    "version": 3
   },
   "file_extension": ".py",
   "mimetype": "text/x-python",
   "name": "python",
   "nbconvert_exporter": "python",
   "pygments_lexer": "ipython3",
   "version": "3.7.0"
  }
 },
 "nbformat": 4,
 "nbformat_minor": 2
}
