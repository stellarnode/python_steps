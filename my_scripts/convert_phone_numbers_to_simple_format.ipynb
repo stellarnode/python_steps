{
 "cells": [
  {
   "cell_type": "code",
   "execution_count": 65,
   "metadata": {},
   "outputs": [],
   "source": [
    "import numpy as np\n",
    "import pandas as pd\n",
    "import matplotlib.pyplot as plt\n",
    "import re\n",
    "%matplotlib inline"
   ]
  },
  {
   "cell_type": "code",
   "execution_count": 66,
   "metadata": {},
   "outputs": [],
   "source": [
    "phones = pd.read_excel('/Users/stellarnode/OneDrive/MTS/mts innovation center/crm/for mts crm/customer_20191101103559_telephones_and_dates_correct format.xlsx')"
   ]
  },
  {
   "cell_type": "code",
   "execution_count": 67,
   "metadata": {},
   "outputs": [
    {
     "data": {
      "text/html": [
       "<div>\n",
       "<style scoped>\n",
       "    .dataframe tbody tr th:only-of-type {\n",
       "        vertical-align: middle;\n",
       "    }\n",
       "\n",
       "    .dataframe tbody tr th {\n",
       "        vertical-align: top;\n",
       "    }\n",
       "\n",
       "    .dataframe thead th {\n",
       "        text-align: right;\n",
       "    }\n",
       "</style>\n",
       "<table border=\"1\" class=\"dataframe\">\n",
       "  <thead>\n",
       "    <tr style=\"text-align: right;\">\n",
       "      <th></th>\n",
       "      <th>ID</th>\n",
       "      <th>Телефон</th>\n",
       "      <th>ID Пользователя</th>\n",
       "      <th>Часовой пояс</th>\n",
       "      <th>Дата регистрации на платформе</th>\n",
       "      <th>Дата первого урока</th>\n",
       "      <th>Split_1</th>\n",
       "      <th>Split_2</th>\n",
       "      <th>Unnamed: 8</th>\n",
       "      <th>Unnamed: 9</th>\n",
       "    </tr>\n",
       "  </thead>\n",
       "  <tbody>\n",
       "    <tr>\n",
       "      <th>0</th>\n",
       "      <td>18130</td>\n",
       "      <td>+7(915)420-24-68</td>\n",
       "      <td>18191.0</td>\n",
       "      <td>3.0</td>\n",
       "      <td>21.05.2019</td>\n",
       "      <td>29.05.2019</td>\n",
       "      <td>+7(915)420-24-68</td>\n",
       "      <td>NaN</td>\n",
       "      <td>NaN</td>\n",
       "      <td>NaN</td>\n",
       "    </tr>\n",
       "    <tr>\n",
       "      <th>1</th>\n",
       "      <td>12593</td>\n",
       "      <td>+7(962)714-15-18</td>\n",
       "      <td>12638.0</td>\n",
       "      <td>3.0</td>\n",
       "      <td>05.04.2019</td>\n",
       "      <td>13.06.2019</td>\n",
       "      <td>+7(962)714-15-18</td>\n",
       "      <td>NaN</td>\n",
       "      <td>NaN</td>\n",
       "      <td>NaN</td>\n",
       "    </tr>\n",
       "    <tr>\n",
       "      <th>2</th>\n",
       "      <td>9155</td>\n",
       "      <td>+7(922)422-27-57</td>\n",
       "      <td>9187.0</td>\n",
       "      <td>5.0</td>\n",
       "      <td>12.01.2019</td>\n",
       "      <td>23.01.2019</td>\n",
       "      <td>+7(922)422-27-57</td>\n",
       "      <td>NaN</td>\n",
       "      <td>NaN</td>\n",
       "      <td>NaN</td>\n",
       "    </tr>\n",
       "    <tr>\n",
       "      <th>3</th>\n",
       "      <td>1055</td>\n",
       "      <td>+7(977)832-88-27</td>\n",
       "      <td>1081.0</td>\n",
       "      <td>3.0</td>\n",
       "      <td>19.10.2018</td>\n",
       "      <td>12.11.2018</td>\n",
       "      <td>+7(977)832-88-27</td>\n",
       "      <td>NaN</td>\n",
       "      <td>NaN</td>\n",
       "      <td>NaN</td>\n",
       "    </tr>\n",
       "    <tr>\n",
       "      <th>4</th>\n",
       "      <td>18144</td>\n",
       "      <td>+7(905)753-56-43</td>\n",
       "      <td>18205.0</td>\n",
       "      <td>3.0</td>\n",
       "      <td>21.05.2019</td>\n",
       "      <td>27.06.2019</td>\n",
       "      <td>+7(905)753-56-43</td>\n",
       "      <td>NaN</td>\n",
       "      <td>NaN</td>\n",
       "      <td>NaN</td>\n",
       "    </tr>\n",
       "  </tbody>\n",
       "</table>\n",
       "</div>"
      ],
      "text/plain": [
       "      ID           Телефон  ID Пользователя  Часовой пояс  \\\n",
       "0  18130  +7(915)420-24-68          18191.0           3.0   \n",
       "1  12593  +7(962)714-15-18          12638.0           3.0   \n",
       "2   9155  +7(922)422-27-57           9187.0           5.0   \n",
       "3   1055  +7(977)832-88-27           1081.0           3.0   \n",
       "4  18144  +7(905)753-56-43          18205.0           3.0   \n",
       "\n",
       "  Дата регистрации на платформе Дата первого урока           Split_1 Split_2  \\\n",
       "0                    21.05.2019         29.05.2019  +7(915)420-24-68     NaN   \n",
       "1                    05.04.2019         13.06.2019  +7(962)714-15-18     NaN   \n",
       "2                    12.01.2019         23.01.2019  +7(922)422-27-57     NaN   \n",
       "3                    19.10.2018         12.11.2018  +7(977)832-88-27     NaN   \n",
       "4                    21.05.2019         27.06.2019  +7(905)753-56-43     NaN   \n",
       "\n",
       "   Unnamed: 8  Unnamed: 9  \n",
       "0         NaN         NaN  \n",
       "1         NaN         NaN  \n",
       "2         NaN         NaN  \n",
       "3         NaN         NaN  \n",
       "4         NaN         NaN  "
      ]
     },
     "execution_count": 67,
     "metadata": {},
     "output_type": "execute_result"
    }
   ],
   "source": [
    "phones.head()"
   ]
  },
  {
   "cell_type": "code",
   "execution_count": 68,
   "metadata": {},
   "outputs": [],
   "source": [
    "phones['SplitA'] = phones['Телефон'].apply(lambda x: str(x).split(\", \")[0])"
   ]
  },
  {
   "cell_type": "code",
   "execution_count": 69,
   "metadata": {},
   "outputs": [
    {
     "data": {
      "text/html": [
       "<div>\n",
       "<style scoped>\n",
       "    .dataframe tbody tr th:only-of-type {\n",
       "        vertical-align: middle;\n",
       "    }\n",
       "\n",
       "    .dataframe tbody tr th {\n",
       "        vertical-align: top;\n",
       "    }\n",
       "\n",
       "    .dataframe thead th {\n",
       "        text-align: right;\n",
       "    }\n",
       "</style>\n",
       "<table border=\"1\" class=\"dataframe\">\n",
       "  <thead>\n",
       "    <tr style=\"text-align: right;\">\n",
       "      <th></th>\n",
       "      <th>ID</th>\n",
       "      <th>Телефон</th>\n",
       "      <th>ID Пользователя</th>\n",
       "      <th>Часовой пояс</th>\n",
       "      <th>Дата регистрации на платформе</th>\n",
       "      <th>Дата первого урока</th>\n",
       "      <th>Split_1</th>\n",
       "      <th>Split_2</th>\n",
       "      <th>Unnamed: 8</th>\n",
       "      <th>Unnamed: 9</th>\n",
       "      <th>SplitA</th>\n",
       "    </tr>\n",
       "  </thead>\n",
       "  <tbody>\n",
       "    <tr>\n",
       "      <th>0</th>\n",
       "      <td>18130</td>\n",
       "      <td>+7(915)420-24-68</td>\n",
       "      <td>18191.0</td>\n",
       "      <td>3.0</td>\n",
       "      <td>21.05.2019</td>\n",
       "      <td>29.05.2019</td>\n",
       "      <td>+7(915)420-24-68</td>\n",
       "      <td>NaN</td>\n",
       "      <td>NaN</td>\n",
       "      <td>NaN</td>\n",
       "      <td>+7(915)420-24-68</td>\n",
       "    </tr>\n",
       "    <tr>\n",
       "      <th>1</th>\n",
       "      <td>12593</td>\n",
       "      <td>+7(962)714-15-18</td>\n",
       "      <td>12638.0</td>\n",
       "      <td>3.0</td>\n",
       "      <td>05.04.2019</td>\n",
       "      <td>13.06.2019</td>\n",
       "      <td>+7(962)714-15-18</td>\n",
       "      <td>NaN</td>\n",
       "      <td>NaN</td>\n",
       "      <td>NaN</td>\n",
       "      <td>+7(962)714-15-18</td>\n",
       "    </tr>\n",
       "    <tr>\n",
       "      <th>2</th>\n",
       "      <td>9155</td>\n",
       "      <td>+7(922)422-27-57</td>\n",
       "      <td>9187.0</td>\n",
       "      <td>5.0</td>\n",
       "      <td>12.01.2019</td>\n",
       "      <td>23.01.2019</td>\n",
       "      <td>+7(922)422-27-57</td>\n",
       "      <td>NaN</td>\n",
       "      <td>NaN</td>\n",
       "      <td>NaN</td>\n",
       "      <td>+7(922)422-27-57</td>\n",
       "    </tr>\n",
       "    <tr>\n",
       "      <th>3</th>\n",
       "      <td>1055</td>\n",
       "      <td>+7(977)832-88-27</td>\n",
       "      <td>1081.0</td>\n",
       "      <td>3.0</td>\n",
       "      <td>19.10.2018</td>\n",
       "      <td>12.11.2018</td>\n",
       "      <td>+7(977)832-88-27</td>\n",
       "      <td>NaN</td>\n",
       "      <td>NaN</td>\n",
       "      <td>NaN</td>\n",
       "      <td>+7(977)832-88-27</td>\n",
       "    </tr>\n",
       "    <tr>\n",
       "      <th>4</th>\n",
       "      <td>18144</td>\n",
       "      <td>+7(905)753-56-43</td>\n",
       "      <td>18205.0</td>\n",
       "      <td>3.0</td>\n",
       "      <td>21.05.2019</td>\n",
       "      <td>27.06.2019</td>\n",
       "      <td>+7(905)753-56-43</td>\n",
       "      <td>NaN</td>\n",
       "      <td>NaN</td>\n",
       "      <td>NaN</td>\n",
       "      <td>+7(905)753-56-43</td>\n",
       "    </tr>\n",
       "  </tbody>\n",
       "</table>\n",
       "</div>"
      ],
      "text/plain": [
       "      ID           Телефон  ID Пользователя  Часовой пояс  \\\n",
       "0  18130  +7(915)420-24-68          18191.0           3.0   \n",
       "1  12593  +7(962)714-15-18          12638.0           3.0   \n",
       "2   9155  +7(922)422-27-57           9187.0           5.0   \n",
       "3   1055  +7(977)832-88-27           1081.0           3.0   \n",
       "4  18144  +7(905)753-56-43          18205.0           3.0   \n",
       "\n",
       "  Дата регистрации на платформе Дата первого урока           Split_1 Split_2  \\\n",
       "0                    21.05.2019         29.05.2019  +7(915)420-24-68     NaN   \n",
       "1                    05.04.2019         13.06.2019  +7(962)714-15-18     NaN   \n",
       "2                    12.01.2019         23.01.2019  +7(922)422-27-57     NaN   \n",
       "3                    19.10.2018         12.11.2018  +7(977)832-88-27     NaN   \n",
       "4                    21.05.2019         27.06.2019  +7(905)753-56-43     NaN   \n",
       "\n",
       "   Unnamed: 8  Unnamed: 9            SplitA  \n",
       "0         NaN         NaN  +7(915)420-24-68  \n",
       "1         NaN         NaN  +7(962)714-15-18  \n",
       "2         NaN         NaN  +7(922)422-27-57  \n",
       "3         NaN         NaN  +7(977)832-88-27  \n",
       "4         NaN         NaN  +7(905)753-56-43  "
      ]
     },
     "execution_count": 69,
     "metadata": {},
     "output_type": "execute_result"
    }
   ],
   "source": [
    "phones.head()"
   ]
  },
  {
   "cell_type": "code",
   "execution_count": 70,
   "metadata": {},
   "outputs": [],
   "source": [
    "def double_check(x):\n",
    "    return \",\" in x"
   ]
  },
  {
   "cell_type": "code",
   "execution_count": 71,
   "metadata": {},
   "outputs": [],
   "source": [
    "phones['SplitB'] = phones['Телефон'].apply(lambda x: str(x).split(\", \")[1] if double_check(x) else \"\")"
   ]
  },
  {
   "cell_type": "code",
   "execution_count": 72,
   "metadata": {},
   "outputs": [],
   "source": [
    "phones['SplitC'] = phones['Телефон'].apply(lambda x: str(x).split(\", \")[2] if double_check(x) and len(str(x).split(\", \")) > 2 else \"\")"
   ]
  },
  {
   "cell_type": "code",
   "execution_count": null,
   "metadata": {},
   "outputs": [],
   "source": []
  },
  {
   "cell_type": "code",
   "execution_count": 73,
   "metadata": {},
   "outputs": [],
   "source": [
    "phones['SplitA_clean'] = phones['SplitA'].apply(lambda x: \"\".join(re.findall(\"\\d\", x)))"
   ]
  },
  {
   "cell_type": "code",
   "execution_count": 74,
   "metadata": {},
   "outputs": [],
   "source": [
    "phones['SplitB_clean'] = phones['SplitB'].apply(lambda x: \"\".join(re.findall(\"\\d\", x)))"
   ]
  },
  {
   "cell_type": "code",
   "execution_count": 75,
   "metadata": {},
   "outputs": [],
   "source": [
    "phones['SplitC_clean'] = phones['SplitC'].apply(lambda x: \"\".join(re.findall(\"\\d\", x)))"
   ]
  },
  {
   "cell_type": "code",
   "execution_count": 76,
   "metadata": {},
   "outputs": [
    {
     "data": {
      "text/plain": [
       "0    \n",
       "1    \n",
       "2    \n",
       "3    \n",
       "4    \n",
       "Name: SplitB_clean, dtype: object"
      ]
     },
     "execution_count": 76,
     "metadata": {},
     "output_type": "execute_result"
    }
   ],
   "source": [
    "phones['SplitB_clean'].head()"
   ]
  },
  {
   "cell_type": "code",
   "execution_count": 77,
   "metadata": {},
   "outputs": [],
   "source": [
    "phones.to_excel('/Users/stellarnode/Desktop/test.xlsx')"
   ]
  },
  {
   "cell_type": "code",
   "execution_count": null,
   "metadata": {},
   "outputs": [],
   "source": []
  }
 ],
 "metadata": {
  "kernelspec": {
   "display_name": "Python 3",
   "language": "python",
   "name": "python3"
  },
  "language_info": {
   "codemirror_mode": {
    "name": "ipython",
    "version": 3
   },
   "file_extension": ".py",
   "mimetype": "text/x-python",
   "name": "python",
   "nbconvert_exporter": "python",
   "pygments_lexer": "ipython3",
   "version": "3.7.3"
  }
 },
 "nbformat": 4,
 "nbformat_minor": 2
}
