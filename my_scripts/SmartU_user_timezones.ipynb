{
 "cells": [
  {
   "cell_type": "code",
   "execution_count": 1,
   "metadata": {},
   "outputs": [],
   "source": [
    "import pandas as pd\n",
    "import numpy as np\n",
    "import matplotlib.pyplot as plt\n",
    "import requests\n",
    "%matplotlib inline"
   ]
  },
  {
   "cell_type": "code",
   "execution_count": 2,
   "metadata": {},
   "outputs": [],
   "source": [
    "google_sheet_url = 'https://docs.google.com/spreadsheets/d/1N_YpMOWlGcaEJqlsH82gm4M6J6k4aH8_7z7h2bWxNA4'"
   ]
  },
  {
   "cell_type": "code",
   "execution_count": 3,
   "metadata": {},
   "outputs": [],
   "source": [
    "# r = requests.get(google_sheet_url)\n",
    "# data = r.content\n",
    "# df = pd.read_csv(data)\n",
    "# r.content"
   ]
  },
  {
   "cell_type": "code",
   "execution_count": 4,
   "metadata": {},
   "outputs": [],
   "source": [
    "df = pd.read_excel('/Users/stellarnode/OneDrive/MTS/mts innovation center/users/Copy of New Users Table.xlsx')"
   ]
  },
  {
   "cell_type": "code",
   "execution_count": 5,
   "metadata": {},
   "outputs": [
    {
     "data": {
      "text/html": [
       "<div>\n",
       "<style scoped>\n",
       "    .dataframe tbody tr th:only-of-type {\n",
       "        vertical-align: middle;\n",
       "    }\n",
       "\n",
       "    .dataframe tbody tr th {\n",
       "        vertical-align: top;\n",
       "    }\n",
       "\n",
       "    .dataframe thead th {\n",
       "        text-align: right;\n",
       "    }\n",
       "</style>\n",
       "<table border=\"1\" class=\"dataframe\">\n",
       "  <thead>\n",
       "    <tr style=\"text-align: right;\">\n",
       "      <th></th>\n",
       "      <th>id</th>\n",
       "      <th>email</th>\n",
       "      <th>first_name</th>\n",
       "      <th>last_name</th>\n",
       "      <th>phone_number</th>\n",
       "      <th>crea ed_a</th>\n",
       "      <th>timezone</th>\n",
       "      <th>Unnamed: 7</th>\n",
       "    </tr>\n",
       "  </thead>\n",
       "  <tbody>\n",
       "    <tr>\n",
       "      <th>0</th>\n",
       "      <td>1</td>\n",
       "      <td>aa.rezanov@gmail.com</td>\n",
       "      <td>Андрей</td>\n",
       "      <td>Резанов</td>\n",
       "      <td>9191092790</td>\n",
       "      <td>2018-02-27 09:31:09</td>\n",
       "      <td>3.0</td>\n",
       "      <td>NaN</td>\n",
       "    </tr>\n",
       "    <tr>\n",
       "      <th>1</th>\n",
       "      <td>2</td>\n",
       "      <td>mstolnikova686@gmail.com</td>\n",
       "      <td>Мария</td>\n",
       "      <td>Стольникова</td>\n",
       "      <td>9160010426</td>\n",
       "      <td>NaT</td>\n",
       "      <td>3.0</td>\n",
       "      <td>NaN</td>\n",
       "    </tr>\n",
       "    <tr>\n",
       "      <th>2</th>\n",
       "      <td>3</td>\n",
       "      <td>davaskova@gmail.com</td>\n",
       "      <td>Дарья</td>\n",
       "      <td>Васькова</td>\n",
       "      <td>9160010941</td>\n",
       "      <td>NaT</td>\n",
       "      <td>3.0</td>\n",
       "      <td>NaN</td>\n",
       "    </tr>\n",
       "    <tr>\n",
       "      <th>3</th>\n",
       "      <td>6</td>\n",
       "      <td>mradomyselskij@stream.ru</td>\n",
       "      <td>Максим</td>\n",
       "      <td>Радомысельский</td>\n",
       "      <td>9638710924</td>\n",
       "      <td>2018-03-02 09:31:48</td>\n",
       "      <td>3.0</td>\n",
       "      <td>NaN</td>\n",
       "    </tr>\n",
       "    <tr>\n",
       "      <th>4</th>\n",
       "      <td>8</td>\n",
       "      <td>aobukhov@stream.ru</td>\n",
       "      <td>Анатолий</td>\n",
       "      <td>Обухов</td>\n",
       "      <td>9104500826</td>\n",
       "      <td>2018-03-05 06:22:31</td>\n",
       "      <td>3.0</td>\n",
       "      <td>NaN</td>\n",
       "    </tr>\n",
       "  </tbody>\n",
       "</table>\n",
       "</div>"
      ],
      "text/plain": [
       "  id                     email first_name       last_name phone_number  \\\n",
       "0  1      aa.rezanov@gmail.com     Андрей         Резанов   9191092790   \n",
       "1  2  mstolnikova686@gmail.com      Мария     Стольникова   9160010426   \n",
       "2  3       davaskova@gmail.com      Дарья        Васькова   9160010941   \n",
       "3  6  mradomyselskij@stream.ru     Максим  Радомысельский   9638710924   \n",
       "4  8        aobukhov@stream.ru   Анатолий          Обухов   9104500826   \n",
       "\n",
       "           crea ed_a   timezone  Unnamed: 7  \n",
       "0 2018-02-27 09:31:09       3.0         NaN  \n",
       "1                 NaT       3.0         NaN  \n",
       "2                 NaT       3.0         NaN  \n",
       "3 2018-03-02 09:31:48       3.0         NaN  \n",
       "4 2018-03-05 06:22:31       3.0         NaN  "
      ]
     },
     "execution_count": 5,
     "metadata": {},
     "output_type": "execute_result"
    }
   ],
   "source": [
    "df.head()"
   ]
  },
  {
   "cell_type": "code",
   "execution_count": 6,
   "metadata": {},
   "outputs": [
    {
     "data": {
      "text/plain": [
       "numpy.float64"
      ]
     },
     "execution_count": 6,
     "metadata": {},
     "output_type": "execute_result"
    }
   ],
   "source": [
    "type(df.iloc[0, 6])"
   ]
  },
  {
   "cell_type": "code",
   "execution_count": 7,
   "metadata": {},
   "outputs": [],
   "source": [
    "timezones = df.groupby(by='timezone')['id'].count()"
   ]
  },
  {
   "cell_type": "code",
   "execution_count": 8,
   "metadata": {},
   "outputs": [
    {
     "data": {
      "text/plain": [
       "pandas.core.series.Series"
      ]
     },
     "execution_count": 8,
     "metadata": {},
     "output_type": "execute_result"
    }
   ],
   "source": [
    "type(timezones)"
   ]
  },
  {
   "cell_type": "code",
   "execution_count": 9,
   "metadata": {},
   "outputs": [
    {
     "data": {
      "text/plain": [
       "timezone\n",
       "-12.0       1\n",
       "-11.0       5\n",
       "-8.0        3\n",
       "-5.0        2\n",
       "-1.0        1\n",
       " 0.0       10\n",
       " 1.0        3\n",
       " 2.0       93\n",
       " 3.0     5394\n",
       " 4.0      434\n",
       " 5.0      966\n",
       " 6.0       88\n",
       " 7.0      605\n",
       " 8.0      180\n",
       " 9.0      138\n",
       " 10.0     197\n",
       " 11.0      52\n",
       " 12.0      28\n",
       "Name: id, dtype: int64"
      ]
     },
     "execution_count": 9,
     "metadata": {},
     "output_type": "execute_result"
    }
   ],
   "source": [
    "timezones"
   ]
  },
  {
   "cell_type": "code",
   "execution_count": 10,
   "metadata": {},
   "outputs": [
    {
     "data": {
      "text/plain": [
       "8200"
      ]
     },
     "execution_count": 10,
     "metadata": {},
     "output_type": "execute_result"
    }
   ],
   "source": [
    "timezones.sum()"
   ]
  },
  {
   "cell_type": "code",
   "execution_count": 11,
   "metadata": {},
   "outputs": [
    {
     "data": {
      "text/plain": [
       "<matplotlib.axes._subplots.AxesSubplot at 0x11a907128>"
      ]
     },
     "execution_count": 11,
     "metadata": {},
     "output_type": "execute_result"
    },
    {
     "data": {
      "image/png": "[encoded data removed]",
      "text/plain": [
       "<Figure size 432x288 with 1 Axes>"
      ]
     },
     "metadata": {
      "needs_background": "light"
     },
     "output_type": "display_data"
    }
   ],
   "source": [
    "timezones.plot()"
   ]
  },
  {
   "cell_type": "code",
   "execution_count": 12,
   "metadata": {},
   "outputs": [],
   "source": [
    "timezones_percent = timezones / timezones.sum()"
   ]
  },
  {
   "cell_type": "code",
   "execution_count": 13,
   "metadata": {},
   "outputs": [
    {
     "data": {
      "text/plain": [
       "timezone\n",
       "-12.0    0.000122\n",
       "-11.0    0.000610\n",
       "-8.0     0.000366\n",
       "-5.0     0.000244\n",
       "-1.0     0.000122\n",
       " 0.0     0.001220\n",
       " 1.0     0.000366\n",
       " 2.0     0.011341\n",
       " 3.0     0.657805\n",
       " 4.0     0.052927\n",
       " 5.0     0.117805\n",
       " 6.0     0.010732\n",
       " 7.0     0.073780\n",
       " 8.0     0.021951\n",
       " 9.0     0.016829\n",
       " 10.0    0.024024\n",
       " 11.0    0.006341\n",
       " 12.0    0.003415\n",
       "Name: id, dtype: float64"
      ]
     },
     "execution_count": 13,
     "metadata": {},
     "output_type": "execute_result"
    }
   ],
   "source": [
    "timezones_percent"
   ]
  },
  {
   "cell_type": "code",
   "execution_count": 14,
   "metadata": {},
   "outputs": [
    {
     "data": {
      "text/html": [
       "<div>\n",
       "<style scoped>\n",
       "    .dataframe tbody tr th:only-of-type {\n",
       "        vertical-align: middle;\n",
       "    }\n",
       "\n",
       "    .dataframe tbody tr th {\n",
       "        vertical-align: top;\n",
       "    }\n",
       "\n",
       "    .dataframe thead th {\n",
       "        text-align: right;\n",
       "    }\n",
       "</style>\n",
       "<table border=\"1\" class=\"dataframe\">\n",
       "  <thead>\n",
       "    <tr style=\"text-align: right;\">\n",
       "      <th></th>\n",
       "      <th>id</th>\n",
       "      <th>email</th>\n",
       "      <th>first_name</th>\n",
       "      <th>last_name</th>\n",
       "      <th>phone_number</th>\n",
       "      <th>crea ed_a</th>\n",
       "      <th>timezone</th>\n",
       "      <th>Unnamed: 7</th>\n",
       "    </tr>\n",
       "  </thead>\n",
       "  <tbody>\n",
       "    <tr>\n",
       "      <th>0</th>\n",
       "      <td>1</td>\n",
       "      <td>aa.rezanov@gmail.com</td>\n",
       "      <td>Андрей</td>\n",
       "      <td>Резанов</td>\n",
       "      <td>9191092790</td>\n",
       "      <td>2018-02-27 09:31:09</td>\n",
       "      <td>3.0</td>\n",
       "      <td>NaN</td>\n",
       "    </tr>\n",
       "    <tr>\n",
       "      <th>1</th>\n",
       "      <td>2</td>\n",
       "      <td>mstolnikova686@gmail.com</td>\n",
       "      <td>Мария</td>\n",
       "      <td>Стольникова</td>\n",
       "      <td>9160010426</td>\n",
       "      <td>NaT</td>\n",
       "      <td>3.0</td>\n",
       "      <td>NaN</td>\n",
       "    </tr>\n",
       "    <tr>\n",
       "      <th>2</th>\n",
       "      <td>3</td>\n",
       "      <td>davaskova@gmail.com</td>\n",
       "      <td>Дарья</td>\n",
       "      <td>Васькова</td>\n",
       "      <td>9160010941</td>\n",
       "      <td>NaT</td>\n",
       "      <td>3.0</td>\n",
       "      <td>NaN</td>\n",
       "    </tr>\n",
       "    <tr>\n",
       "      <th>3</th>\n",
       "      <td>6</td>\n",
       "      <td>mradomyselskij@stream.ru</td>\n",
       "      <td>Максим</td>\n",
       "      <td>Радомысельский</td>\n",
       "      <td>9638710924</td>\n",
       "      <td>2018-03-02 09:31:48</td>\n",
       "      <td>3.0</td>\n",
       "      <td>NaN</td>\n",
       "    </tr>\n",
       "    <tr>\n",
       "      <th>4</th>\n",
       "      <td>8</td>\n",
       "      <td>aobukhov@stream.ru</td>\n",
       "      <td>Анатолий</td>\n",
       "      <td>Обухов</td>\n",
       "      <td>9104500826</td>\n",
       "      <td>2018-03-05 06:22:31</td>\n",
       "      <td>3.0</td>\n",
       "      <td>NaN</td>\n",
       "    </tr>\n",
       "  </tbody>\n",
       "</table>\n",
       "</div>"
      ],
      "text/plain": [
       "  id                     email first_name       last_name phone_number  \\\n",
       "0  1      aa.rezanov@gmail.com     Андрей         Резанов   9191092790   \n",
       "1  2  mstolnikova686@gmail.com      Мария     Стольникова   9160010426   \n",
       "2  3       davaskova@gmail.com      Дарья        Васькова   9160010941   \n",
       "3  6  mradomyselskij@stream.ru     Максим  Радомысельский   9638710924   \n",
       "4  8        aobukhov@stream.ru   Анатолий          Обухов   9104500826   \n",
       "\n",
       "           crea ed_a   timezone  Unnamed: 7  \n",
       "0 2018-02-27 09:31:09       3.0         NaN  \n",
       "1                 NaT       3.0         NaN  \n",
       "2                 NaT       3.0         NaN  \n",
       "3 2018-03-02 09:31:48       3.0         NaN  \n",
       "4 2018-03-05 06:22:31       3.0         NaN  "
      ]
     },
     "execution_count": 14,
     "metadata": {},
     "output_type": "execute_result"
    }
   ],
   "source": [
    "df.head()"
   ]
  },
  {
   "cell_type": "code",
   "execution_count": null,
   "metadata": {},
   "outputs": [],
   "source": []
  },
  {
   "cell_type": "code",
   "execution_count": 18,
   "metadata": {},
   "outputs": [],
   "source": [
    "df['email_provider'] = df['email'].apply(lambda x: str(x).split('@')[1] if len(str(x).split('@')) > 1 else str(x).split('@')[0])"
   ]
  },
  {
   "cell_type": "code",
   "execution_count": 19,
   "metadata": {},
   "outputs": [
    {
     "data": {
      "text/html": [
       "<div>\n",
       "<style scoped>\n",
       "    .dataframe tbody tr th:only-of-type {\n",
       "        vertical-align: middle;\n",
       "    }\n",
       "\n",
       "    .dataframe tbody tr th {\n",
       "        vertical-align: top;\n",
       "    }\n",
       "\n",
       "    .dataframe thead th {\n",
       "        text-align: right;\n",
       "    }\n",
       "</style>\n",
       "<table border=\"1\" class=\"dataframe\">\n",
       "  <thead>\n",
       "    <tr style=\"text-align: right;\">\n",
       "      <th></th>\n",
       "      <th>id</th>\n",
       "      <th>email</th>\n",
       "      <th>first_name</th>\n",
       "      <th>last_name</th>\n",
       "      <th>phone_number</th>\n",
       "      <th>crea ed_a</th>\n",
       "      <th>timezone</th>\n",
       "      <th>Unnamed: 7</th>\n",
       "      <th>email_provider</th>\n",
       "    </tr>\n",
       "  </thead>\n",
       "  <tbody>\n",
       "    <tr>\n",
       "      <th>0</th>\n",
       "      <td>1</td>\n",
       "      <td>aa.rezanov@gmail.com</td>\n",
       "      <td>Андрей</td>\n",
       "      <td>Резанов</td>\n",
       "      <td>9191092790</td>\n",
       "      <td>2018-02-27 09:31:09</td>\n",
       "      <td>3.0</td>\n",
       "      <td>NaN</td>\n",
       "      <td>gmail.com</td>\n",
       "    </tr>\n",
       "    <tr>\n",
       "      <th>1</th>\n",
       "      <td>2</td>\n",
       "      <td>mstolnikova686@gmail.com</td>\n",
       "      <td>Мария</td>\n",
       "      <td>Стольникова</td>\n",
       "      <td>9160010426</td>\n",
       "      <td>NaT</td>\n",
       "      <td>3.0</td>\n",
       "      <td>NaN</td>\n",
       "      <td>gmail.com</td>\n",
       "    </tr>\n",
       "    <tr>\n",
       "      <th>2</th>\n",
       "      <td>3</td>\n",
       "      <td>davaskova@gmail.com</td>\n",
       "      <td>Дарья</td>\n",
       "      <td>Васькова</td>\n",
       "      <td>9160010941</td>\n",
       "      <td>NaT</td>\n",
       "      <td>3.0</td>\n",
       "      <td>NaN</td>\n",
       "      <td>gmail.com</td>\n",
       "    </tr>\n",
       "    <tr>\n",
       "      <th>3</th>\n",
       "      <td>6</td>\n",
       "      <td>mradomyselskij@stream.ru</td>\n",
       "      <td>Максим</td>\n",
       "      <td>Радомысельский</td>\n",
       "      <td>9638710924</td>\n",
       "      <td>2018-03-02 09:31:48</td>\n",
       "      <td>3.0</td>\n",
       "      <td>NaN</td>\n",
       "      <td>stream.ru</td>\n",
       "    </tr>\n",
       "    <tr>\n",
       "      <th>4</th>\n",
       "      <td>8</td>\n",
       "      <td>aobukhov@stream.ru</td>\n",
       "      <td>Анатолий</td>\n",
       "      <td>Обухов</td>\n",
       "      <td>9104500826</td>\n",
       "      <td>2018-03-05 06:22:31</td>\n",
       "      <td>3.0</td>\n",
       "      <td>NaN</td>\n",
       "      <td>stream.ru</td>\n",
       "    </tr>\n",
       "  </tbody>\n",
       "</table>\n",
       "</div>"
      ],
      "text/plain": [
       "  id                     email first_name       last_name phone_number  \\\n",
       "0  1      aa.rezanov@gmail.com     Андрей         Резанов   9191092790   \n",
       "1  2  mstolnikova686@gmail.com      Мария     Стольникова   9160010426   \n",
       "2  3       davaskova@gmail.com      Дарья        Васькова   9160010941   \n",
       "3  6  mradomyselskij@stream.ru     Максим  Радомысельский   9638710924   \n",
       "4  8        aobukhov@stream.ru   Анатолий          Обухов   9104500826   \n",
       "\n",
       "           crea ed_a   timezone  Unnamed: 7 email_provider  \n",
       "0 2018-02-27 09:31:09       3.0         NaN      gmail.com  \n",
       "1                 NaT       3.0         NaN      gmail.com  \n",
       "2                 NaT       3.0         NaN      gmail.com  \n",
       "3 2018-03-02 09:31:48       3.0         NaN      stream.ru  \n",
       "4 2018-03-05 06:22:31       3.0         NaN      stream.ru  "
      ]
     },
     "execution_count": 19,
     "metadata": {},
     "output_type": "execute_result"
    }
   ],
   "source": [
    "df.head()"
   ]
  },
  {
   "cell_type": "code",
   "execution_count": 20,
   "metadata": {},
   "outputs": [
    {
     "data": {
      "text/plain": [
       "8200"
      ]
     },
     "execution_count": 20,
     "metadata": {},
     "output_type": "execute_result"
    }
   ],
   "source": [
    "df['id'].count()"
   ]
  },
  {
   "cell_type": "code",
   "execution_count": 21,
   "metadata": {},
   "outputs": [],
   "source": [
    "email_providers = df.groupby(by='email_provider')['id'].count()"
   ]
  },
  {
   "cell_type": "code",
   "execution_count": 22,
   "metadata": {},
   "outputs": [
    {
     "data": {
      "text/plain": [
       "email_provider\n",
       "mail.ru            2951\n",
       "gmail.com          2176\n",
       "yandex.ru          1009\n",
       "icloud.com          487\n",
       "bk.ru               371\n",
       "inbox.ru            181\n",
       "list.ru             179\n",
       "mts.ru              105\n",
       "nwytg.net            97\n",
       "rambler.ru           74\n",
       "ya.ru                50\n",
       "gmail.ru             44\n",
       "champmails.com       36\n",
       "mail.com             33\n",
       "gmail.con            27\n",
       "mts.ur               23\n",
       "icloud.con           13\n",
       "outlook.com          13\n",
       "mail.ri              12\n",
       "yahoo.com            12\n",
       "stream.ru            11\n",
       "smartu.ru            11\n",
       "hotmail.com           9\n",
       "yandex.com            9\n",
       "me.com                8\n",
       "icloud.ru             7\n",
       "email.com             6\n",
       "ngs.ru                5\n",
       "my.com                5\n",
       "0ne0ut.com            5\n",
       "                   ... \n",
       "karymagmail.com       1\n",
       "k.ru                  1\n",
       "juggled.ru            1\n",
       "jsjs.ru               1\n",
       "jmail.com             1\n",
       "jj.ru                 1\n",
       "mail2000.ru           1\n",
       "maill.com             1\n",
       "maill.ru              1\n",
       "mali.ru               1\n",
       "pivot4u.com           1\n",
       "p.ru                  1\n",
       "onbox.ru              1\n",
       "omsksity.net          1\n",
       "nvg.ru                1\n",
       "novich.ur             1\n",
       "nov.ur                1\n",
       "nia.uxtest            1\n",
       "nasty.com             1\n",
       "narod.rut             1\n",
       "name.com              1\n",
       "nail.com              1\n",
       "mtstest.ru            1\n",
       "msil.ru               1\n",
       "mgutm.ru              1\n",
       "mgail.con             1\n",
       "meta.ua               1\n",
       "maul.ru               1\n",
       "03.bk.ru              1\n",
       "nan                   0\n",
       "Name: id, Length: 223, dtype: int64"
      ]
     },
     "execution_count": 22,
     "metadata": {},
     "output_type": "execute_result"
    }
   ],
   "source": [
    "email_providers.sort_values(ascending=False)"
   ]
  },
  {
   "cell_type": "code",
   "execution_count": 23,
   "metadata": {},
   "outputs": [],
   "source": [
    "good_email_providers = [['mail.ru'], ['gmail.com'], ['yandex.ru'], ['icloud.com'], ['bk.ru'], ['list.ru'], ['inbox.ru'], ['rambler.ru'], ['yahoo.com'], ['me.com']]"
   ]
  },
  {
   "cell_type": "code",
   "execution_count": 24,
   "metadata": {},
   "outputs": [],
   "source": [
    "good_email_providers = ['mail.ru', 'gmail.com', 'yandex.ru', 'icloud.com', 'bk.ru', 'list.ru', 'inbox.ru', 'rambler.ru', 'yahoo.com', 'me.com']"
   ]
  },
  {
   "cell_type": "code",
   "execution_count": 26,
   "metadata": {},
   "outputs": [
    {
     "data": {
      "text/plain": [
       "id                188\n",
       "email             188\n",
       "first_name        188\n",
       "last_name         187\n",
       "phone_number      188\n",
       "crea ed_a         188\n",
       "timezone          188\n",
       "Unnamed: 7         24\n",
       "email_provider    188\n",
       "dtype: int64"
      ]
     },
     "execution_count": 26,
     "metadata": {},
     "output_type": "execute_result"
    }
   ],
   "source": [
    "df[df['phone_number'].apply(lambda x: '666' in str(x))].count()"
   ]
  },
  {
   "cell_type": "code",
   "execution_count": 27,
   "metadata": {},
   "outputs": [
    {
     "data": {
      "text/plain": [
       "id                 752\n",
       "email              752\n",
       "first_name         752\n",
       "last_name          751\n",
       "phone_number       752\n",
       "crea ed_a          751\n",
       "timezone           752\n",
       "Unnamed: 7          30\n",
       "email_provider    1765\n",
       "dtype: int64"
      ]
     },
     "execution_count": 27,
     "metadata": {},
     "output_type": "execute_result"
    }
   ],
   "source": [
    "df[df['email_provider'].apply(lambda x: str(x) not in good_email_providers)].count()"
   ]
  },
  {
   "cell_type": "code",
   "execution_count": 29,
   "metadata": {},
   "outputs": [
    {
     "name": "stdout",
     "output_type": "stream",
     "text": [
      "Number of bad or test user ids:\n"
     ]
    },
    {
     "data": {
      "text/plain": [
       "797"
      ]
     },
     "execution_count": 29,
     "metadata": {},
     "output_type": "execute_result"
    }
   ],
   "source": [
    "print('Number of bad or test user ids:')\n",
    "df[df['phone_number'].apply(lambda x: '666' in str(x)) | df['email_provider'].apply(lambda x: str(x) not in good_email_providers)]['id'].count()"
   ]
  },
  {
   "cell_type": "code",
   "execution_count": 32,
   "metadata": {},
   "outputs": [
    {
     "data": {
      "text/plain": [
       "email_provider\n",
       "mail.ru       2933\n",
       "gmail.com     2165\n",
       "yandex.ru     1005\n",
       "icloud.com     486\n",
       "bk.ru          365\n",
       "inbox.ru       179\n",
       "list.ru        177\n",
       "rambler.ru      73\n",
       "yahoo.com       12\n",
       "me.com           8\n",
       "Name: email_provider, dtype: int64"
      ]
     },
     "execution_count": 32,
     "metadata": {},
     "output_type": "execute_result"
    }
   ],
   "source": [
    "df[df['phone_number'].apply(lambda x: '666' not in str(x)) & df['email_provider'].apply(lambda x: str(x) in good_email_providers)].groupby(by='email_provider')['email_provider'].count().sort_values(ascending=False)"
   ]
  },
  {
   "cell_type": "code",
   "execution_count": 33,
   "metadata": {},
   "outputs": [
    {
     "data": {
      "text/plain": [
       "'mail.ru'"
      ]
     },
     "execution_count": 33,
     "metadata": {},
     "output_type": "execute_result"
    }
   ],
   "source": [
    "good_email_providers[0]"
   ]
  },
  {
   "cell_type": "code",
   "execution_count": 34,
   "metadata": {},
   "outputs": [
    {
     "name": "stdout",
     "output_type": "stream",
     "text": [
      "gmail.com\n"
     ]
    }
   ],
   "source": [
    "print(df['email_provider'][0][0:])"
   ]
  },
  {
   "cell_type": "code",
   "execution_count": null,
   "metadata": {},
   "outputs": [],
   "source": []
  }
 ],
 "metadata": {
  "kernelspec": {
   "display_name": "Python 3",
   "language": "python",
   "name": "python3"
  },
  "language_info": {
   "codemirror_mode": {
    "name": "ipython",
    "version": 3
   },
   "file_extension": ".py",
   "mimetype": "text/x-python",
   "name": "python",
   "nbconvert_exporter": "python",
   "pygments_lexer": "ipython3",
   "version": "3.7.3"
  }
 },
 "nbformat": 4,
 "nbformat_minor": 2
}
