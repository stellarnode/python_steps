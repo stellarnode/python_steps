{
 "cells": [
  {
   "cell_type": "code",
   "execution_count": 201,
   "metadata": {},
   "outputs": [],
   "source": [
    "import numpy as np\n",
    "import pandas as pd\n",
    "import matplotlib.pyplot as plt\n",
    "%matplotlib inline\n",
    "import seaborn as sbn\n",
    "from datetime import datetime"
   ]
  },
  {
   "cell_type": "code",
   "execution_count": 202,
   "metadata": {},
   "outputs": [],
   "source": [
    "transactions = pd.read_excel('/Users/stellarnode/Desktop/transactions_2018-01-01-00-00_2020-01-31-00-00.xlsx')"
   ]
  },
  {
   "cell_type": "code",
   "execution_count": 203,
   "metadata": {},
   "outputs": [],
   "source": [
    "ga_data = pd.read_excel('/Users/stellarnode/OneDrive/MTS/mts innovation center/sales/analysis/Analytics Smart-university All Traffic 20190101-20191119.xlsx', sheet_name = 'Dataset2')"
   ]
  },
  {
   "cell_type": "code",
   "execution_count": 204,
   "metadata": {},
   "outputs": [],
   "source": [
    "# type(ga_data['Day Index'][3])"
   ]
  },
  {
   "cell_type": "code",
   "execution_count": 205,
   "metadata": {},
   "outputs": [],
   "source": [
    "ga_data['Datetime_datetime'] = pd.to_datetime(ga_data['Day Index'])"
   ]
  },
  {
   "cell_type": "code",
   "execution_count": 206,
   "metadata": {},
   "outputs": [],
   "source": [
    "# type(ga_data)"
   ]
  },
  {
   "cell_type": "code",
   "execution_count": 207,
   "metadata": {},
   "outputs": [
    {
     "data": {
      "text/plain": [
       "0   2019-01-01\n",
       "1   2019-01-02\n",
       "2   2019-01-03\n",
       "3   2019-01-04\n",
       "4   2019-01-05\n",
       "Name: Datetime_datetime, dtype: datetime64[ns]"
      ]
     },
     "execution_count": 207,
     "metadata": {},
     "output_type": "execute_result"
    }
   ],
   "source": [
    "ga_data['Datetime_datetime'].head()"
   ]
  },
  {
   "cell_type": "code",
   "execution_count": 208,
   "metadata": {},
   "outputs": [],
   "source": [
    "# transactions.info()"
   ]
  },
  {
   "cell_type": "code",
   "execution_count": 209,
   "metadata": {},
   "outputs": [],
   "source": [
    "transactions['Date'] = transactions['Дата списания'].apply(lambda x: str(x).split(' ')[0])\n",
    "transactions['Month'] = transactions['Дата списания'].apply(lambda x: str(x).split(' ')[0][:7])\n",
    "transactions['Date_general'] = transactions['Дата'].apply(lambda x: str(x).split(' ')[0])\n",
    "transactions['Month_general'] = transactions['Дата'].apply(lambda x: str(x).split(' ')[0][:7])\n",
    "transactions['Datetime'] = transactions['Date'].apply(lambda x: x if x == 'nan' else datetime.strptime(x, '%Y.%m.%d'))"
   ]
  },
  {
   "cell_type": "code",
   "execution_count": 210,
   "metadata": {},
   "outputs": [],
   "source": [
    "# type(transactions['Datetime'][3])"
   ]
  },
  {
   "cell_type": "code",
   "execution_count": 211,
   "metadata": {},
   "outputs": [],
   "source": [
    "transactions['Datetime_datetime'] = pd.to_datetime(transactions['Datetime'])"
   ]
  },
  {
   "cell_type": "code",
   "execution_count": 212,
   "metadata": {},
   "outputs": [
    {
     "data": {
      "text/plain": [
       "0   2020-01-30\n",
       "1   2020-01-29\n",
       "2   2020-01-29\n",
       "3          NaT\n",
       "4          NaT\n",
       "Name: Datetime_datetime, dtype: datetime64[ns]"
      ]
     },
     "execution_count": 212,
     "metadata": {},
     "output_type": "execute_result"
    }
   ],
   "source": [
    "transactions['Datetime_datetime'].head()"
   ]
  },
  {
   "cell_type": "code",
   "execution_count": 213,
   "metadata": {},
   "outputs": [],
   "source": [
    "# Daily sales (sorted by top 20)"
   ]
  },
  {
   "cell_type": "code",
   "execution_count": 214,
   "metadata": {},
   "outputs": [
    {
     "data": {
      "text/plain": [
       "Date\n",
       "2019.01.10    114397\n",
       "2019.11.11    109690\n",
       "2019.10.23    107880\n",
       "2019.11.14     87920\n",
       "2020.01.28     83910\n",
       "2019.11.20     81900\n",
       "2019.08.13     81420\n",
       "2019.10.25     80950\n",
       "2019.03.29     72250\n",
       "2019.08.28     70560\n",
       "2019.11.12     69940\n",
       "2020.01.27     69280\n",
       "2019.09.02     67980\n",
       "2019.09.14     64950\n",
       "2019.11.26     64390\n",
       "2019.09.05     61367\n",
       "2019.08.11     60440\n",
       "2019.07.27     59180\n",
       "2019.08.14     58760\n",
       "2020.01.20     58550\n",
       "Name: Сумма подтверждения, dtype: int64"
      ]
     },
     "execution_count": 214,
     "metadata": {},
     "output_type": "execute_result"
    }
   ],
   "source": [
    "transactions[transactions['Состояние'] == 'Завершён'].groupby(by='Date')['Сумма подтверждения'].sum().sort_values(ascending=False).head(20)"
   ]
  },
  {
   "cell_type": "code",
   "execution_count": 215,
   "metadata": {},
   "outputs": [],
   "source": [
    "sales_by_day_to_merge = transactions[transactions['Состояние'] == 'Завершён'].groupby(by='Datetime_datetime')['Сумма подтверждения'].sum()"
   ]
  },
  {
   "cell_type": "code",
   "execution_count": 216,
   "metadata": {},
   "outputs": [],
   "source": [
    "sales_by_day_to_merge = pd.DataFrame(sales_by_day_to_merge)"
   ]
  },
  {
   "cell_type": "code",
   "execution_count": 217,
   "metadata": {},
   "outputs": [],
   "source": [
    "ga_data = ga_data.join(sales_by_day_to_merge, on='Datetime_datetime')"
   ]
  },
  {
   "cell_type": "code",
   "execution_count": 218,
   "metadata": {},
   "outputs": [
    {
     "data": {
      "text/html": [
       "<div>\n",
       "<style scoped>\n",
       "    .dataframe tbody tr th:only-of-type {\n",
       "        vertical-align: middle;\n",
       "    }\n",
       "\n",
       "    .dataframe tbody tr th {\n",
       "        vertical-align: top;\n",
       "    }\n",
       "\n",
       "    .dataframe thead th {\n",
       "        text-align: right;\n",
       "    }\n",
       "</style>\n",
       "<table border=\"1\" class=\"dataframe\">\n",
       "  <thead>\n",
       "    <tr style=\"text-align: right;\">\n",
       "      <th></th>\n",
       "      <th>Day Index</th>\n",
       "      <th>Запись на бесплатный урок (Goal 14 Completions)</th>\n",
       "      <th>Datetime_datetime</th>\n",
       "      <th>Сумма подтверждения</th>\n",
       "    </tr>\n",
       "  </thead>\n",
       "  <tbody>\n",
       "    <tr>\n",
       "      <th>314</th>\n",
       "      <td>2019-11-11</td>\n",
       "      <td>89</td>\n",
       "      <td>2019-11-11</td>\n",
       "      <td>109690.0</td>\n",
       "    </tr>\n",
       "    <tr>\n",
       "      <th>315</th>\n",
       "      <td>2019-11-12</td>\n",
       "      <td>68</td>\n",
       "      <td>2019-11-12</td>\n",
       "      <td>69940.0</td>\n",
       "    </tr>\n",
       "    <tr>\n",
       "      <th>316</th>\n",
       "      <td>2019-11-13</td>\n",
       "      <td>58</td>\n",
       "      <td>2019-11-13</td>\n",
       "      <td>21480.0</td>\n",
       "    </tr>\n",
       "    <tr>\n",
       "      <th>317</th>\n",
       "      <td>2019-11-14</td>\n",
       "      <td>83</td>\n",
       "      <td>2019-11-14</td>\n",
       "      <td>87920.0</td>\n",
       "    </tr>\n",
       "    <tr>\n",
       "      <th>318</th>\n",
       "      <td>2019-11-15</td>\n",
       "      <td>62</td>\n",
       "      <td>2019-11-15</td>\n",
       "      <td>39960.0</td>\n",
       "    </tr>\n",
       "    <tr>\n",
       "      <th>319</th>\n",
       "      <td>2019-11-16</td>\n",
       "      <td>57</td>\n",
       "      <td>2019-11-16</td>\n",
       "      <td>37500.0</td>\n",
       "    </tr>\n",
       "    <tr>\n",
       "      <th>320</th>\n",
       "      <td>2019-11-17</td>\n",
       "      <td>52</td>\n",
       "      <td>2019-11-17</td>\n",
       "      <td>47960.0</td>\n",
       "    </tr>\n",
       "    <tr>\n",
       "      <th>321</th>\n",
       "      <td>2019-11-18</td>\n",
       "      <td>59</td>\n",
       "      <td>2019-11-18</td>\n",
       "      <td>22970.0</td>\n",
       "    </tr>\n",
       "    <tr>\n",
       "      <th>322</th>\n",
       "      <td>2019-11-19</td>\n",
       "      <td>142</td>\n",
       "      <td>2019-11-19</td>\n",
       "      <td>48950.0</td>\n",
       "    </tr>\n",
       "    <tr>\n",
       "      <th>323</th>\n",
       "      <td>NaT</td>\n",
       "      <td>8270</td>\n",
       "      <td>NaT</td>\n",
       "      <td>NaN</td>\n",
       "    </tr>\n",
       "  </tbody>\n",
       "</table>\n",
       "</div>"
      ],
      "text/plain": [
       "     Day Index  Запись на бесплатный урок (Goal 14 Completions)  \\\n",
       "314 2019-11-11                                               89   \n",
       "315 2019-11-12                                               68   \n",
       "316 2019-11-13                                               58   \n",
       "317 2019-11-14                                               83   \n",
       "318 2019-11-15                                               62   \n",
       "319 2019-11-16                                               57   \n",
       "320 2019-11-17                                               52   \n",
       "321 2019-11-18                                               59   \n",
       "322 2019-11-19                                              142   \n",
       "323        NaT                                             8270   \n",
       "\n",
       "    Datetime_datetime  Сумма подтверждения  \n",
       "314        2019-11-11             109690.0  \n",
       "315        2019-11-12              69940.0  \n",
       "316        2019-11-13              21480.0  \n",
       "317        2019-11-14              87920.0  \n",
       "318        2019-11-15              39960.0  \n",
       "319        2019-11-16              37500.0  \n",
       "320        2019-11-17              47960.0  \n",
       "321        2019-11-18              22970.0  \n",
       "322        2019-11-19              48950.0  \n",
       "323               NaT                  NaN  "
      ]
     },
     "execution_count": 218,
     "metadata": {},
     "output_type": "execute_result"
    }
   ],
   "source": [
    "ga_data.tail(10)"
   ]
  },
  {
   "cell_type": "code",
   "execution_count": 219,
   "metadata": {},
   "outputs": [],
   "source": [
    "ga_data_for_export = ga_data.drop('Datetime_datetime', axis = 1)"
   ]
  },
  {
   "cell_type": "code",
   "execution_count": 220,
   "metadata": {},
   "outputs": [],
   "source": [
    "# Normalize data"
   ]
  },
  {
   "cell_type": "code",
   "execution_count": 221,
   "metadata": {},
   "outputs": [],
   "source": [
    "ga_data_for_export['Requests_normalized'] = (ga_data_for_export['Запись на бесплатный урок (Goal 14 Completions)']-ga_data_for_export['Запись на бесплатный урок (Goal 14 Completions)'].min())/(ga_data_for_export['Запись на бесплатный урок (Goal 14 Completions)'].max()-ga_data_for_export['Запись на бесплатный урок (Goal 14 Completions)'].min())"
   ]
  },
  {
   "cell_type": "code",
   "execution_count": 222,
   "metadata": {},
   "outputs": [],
   "source": [
    "ga_data_for_export['Income_normalized'] = (ga_data_for_export['Сумма подтверждения']-ga_data_for_export['Сумма подтверждения'].min())/(ga_data_for_export['Сумма подтверждения'].max()-ga_data_for_export['Сумма подтверждения'].min())"
   ]
  },
  {
   "cell_type": "code",
   "execution_count": 223,
   "metadata": {},
   "outputs": [],
   "source": [
    "# ga_data_for_export.to_excel('/Users/stellarnode/Desktop/ga_data_for_export.xls')"
   ]
  },
  {
   "cell_type": "code",
   "execution_count": 224,
   "metadata": {},
   "outputs": [
    {
     "data": {
      "text/html": [
       "<div>\n",
       "<style scoped>\n",
       "    .dataframe tbody tr th:only-of-type {\n",
       "        vertical-align: middle;\n",
       "    }\n",
       "\n",
       "    .dataframe tbody tr th {\n",
       "        vertical-align: top;\n",
       "    }\n",
       "\n",
       "    .dataframe thead th {\n",
       "        text-align: right;\n",
       "    }\n",
       "</style>\n",
       "<table border=\"1\" class=\"dataframe\">\n",
       "  <thead>\n",
       "    <tr style=\"text-align: right;\">\n",
       "      <th></th>\n",
       "      <th>Сумма подтверждения</th>\n",
       "    </tr>\n",
       "    <tr>\n",
       "      <th>Datetime_datetime</th>\n",
       "      <th></th>\n",
       "    </tr>\n",
       "  </thead>\n",
       "  <tbody>\n",
       "    <tr>\n",
       "      <th>2020-01-26</th>\n",
       "      <td>13980</td>\n",
       "    </tr>\n",
       "    <tr>\n",
       "      <th>2020-01-27</th>\n",
       "      <td>69280</td>\n",
       "    </tr>\n",
       "    <tr>\n",
       "      <th>2020-01-28</th>\n",
       "      <td>83910</td>\n",
       "    </tr>\n",
       "    <tr>\n",
       "      <th>2020-01-29</th>\n",
       "      <td>40520</td>\n",
       "    </tr>\n",
       "    <tr>\n",
       "      <th>2020-01-30</th>\n",
       "      <td>4990</td>\n",
       "    </tr>\n",
       "  </tbody>\n",
       "</table>\n",
       "</div>"
      ],
      "text/plain": [
       "                   Сумма подтверждения\n",
       "Datetime_datetime                     \n",
       "2020-01-26                       13980\n",
       "2020-01-27                       69280\n",
       "2020-01-28                       83910\n",
       "2020-01-29                       40520\n",
       "2020-01-30                        4990"
      ]
     },
     "execution_count": 224,
     "metadata": {},
     "output_type": "execute_result"
    }
   ],
   "source": [
    "sales_by_day_to_merge.tail()"
   ]
  },
  {
   "cell_type": "code",
   "execution_count": 225,
   "metadata": {},
   "outputs": [],
   "source": [
    "sales_by_day = transactions[transactions['Состояние'] == 'Завершён'].groupby(by='Date')['Сумма подтверждения'].sum()"
   ]
  },
  {
   "cell_type": "code",
   "execution_count": 226,
   "metadata": {},
   "outputs": [],
   "source": [
    "# Monthly sales (sorted by max and then sorted by month)"
   ]
  },
  {
   "cell_type": "code",
   "execution_count": 227,
   "metadata": {},
   "outputs": [
    {
     "data": {
      "text/plain": [
       "Month\n",
       "2019.11    1025050\n",
       "2019.08     994610\n",
       "2019.10     928338\n",
       "2020.01     842880\n",
       "2019.09     800337\n",
       "2019.12     775401\n",
       "2019.03     592443\n",
       "2019.04     516757\n",
       "2019.01     478233\n",
       "2019.06     449561\n",
       "2019.05     445632\n",
       "2019.07     443225\n",
       "2019.02     320277\n",
       "2018.12     319352\n",
       "2018.10     164425\n",
       "2018.11     156464\n",
       "2018.09      87803\n",
       "2018.08      55517\n",
       "2018.07       3395\n",
       "2018.05        170\n",
       "2018.06        134\n",
       "Name: Сумма подтверждения, dtype: int64"
      ]
     },
     "execution_count": 227,
     "metadata": {},
     "output_type": "execute_result"
    }
   ],
   "source": [
    "transactions[transactions['Состояние'] == 'Завершён'].groupby(by='Month')['Сумма подтверждения'].sum().sort_values(ascending=False)"
   ]
  },
  {
   "cell_type": "code",
   "execution_count": 228,
   "metadata": {},
   "outputs": [
    {
     "data": {
      "text/plain": [
       "Month\n",
       "2018.05        170\n",
       "2018.06        134\n",
       "2018.07       3395\n",
       "2018.08      55517\n",
       "2018.09      87803\n",
       "2018.10     164425\n",
       "2018.11     156464\n",
       "2018.12     319352\n",
       "2019.01     478233\n",
       "2019.02     320277\n",
       "2019.03     592443\n",
       "2019.04     516757\n",
       "2019.05     445632\n",
       "2019.06     449561\n",
       "2019.07     443225\n",
       "2019.08     994610\n",
       "2019.09     800337\n",
       "2019.10     928338\n",
       "2019.11    1025050\n",
       "2019.12     775401\n",
       "2020.01     842880\n",
       "Name: Сумма подтверждения, dtype: int64"
      ]
     },
     "execution_count": 228,
     "metadata": {},
     "output_type": "execute_result"
    }
   ],
   "source": [
    "transactions[transactions['Состояние'] == 'Завершён'].groupby(by='Month')['Сумма подтверждения'].sum()"
   ]
  },
  {
   "cell_type": "code",
   "execution_count": 229,
   "metadata": {},
   "outputs": [],
   "source": [
    "sales_by_month = transactions[transactions['Состояние'] == 'Завершён'].groupby(by='Month')['Сумма подтверждения'].sum()"
   ]
  },
  {
   "cell_type": "code",
   "execution_count": 230,
   "metadata": {},
   "outputs": [
    {
     "data": {
      "text/plain": [
       "[<matplotlib.lines.Line2D at 0x7fe59a2beef0>]"
      ]
     },
     "execution_count": 230,
     "metadata": {},
     "output_type": "execute_result"
    },
    {
     "data": {
      "image/png": "[encoded data removed]",
      "text/plain": [
       "<Figure size 432x288 with 1 Axes>"
      ]
     },
     "metadata": {
      "needs_background": "light"
     },
     "output_type": "display_data"
    }
   ],
   "source": [
    "plt.plot(sales_by_month)"
   ]
  },
  {
   "cell_type": "code",
   "execution_count": 231,
   "metadata": {},
   "outputs": [],
   "source": [
    "# Select months to plot"
   ]
  },
  {
   "cell_type": "code",
   "execution_count": 232,
   "metadata": {},
   "outputs": [],
   "source": [
    "y = transactions[(transactions['Состояние'] == 'Завершён') & (transactions['Month'] == '2019.12') | (transactions['Month'] == '2019.11') | (transactions['Month'] == '2020.01')].groupby(by='Datetime')['Сумма подтверждения'].sum()"
   ]
  },
  {
   "cell_type": "code",
   "execution_count": 233,
   "metadata": {},
   "outputs": [
    {
     "data": {
      "text/plain": [
       "[<matplotlib.lines.Line2D at 0x7fe60897b8d0>]"
      ]
     },
     "execution_count": 233,
     "metadata": {},
     "output_type": "execute_result"
    },
    {
     "data": {
      "image/png": "[encoded data removed]",
      "text/plain": [
       "<Figure size 432x288 with 1 Axes>"
      ]
     },
     "metadata": {
      "needs_background": "light"
     },
     "output_type": "display_data"
    }
   ],
   "source": [
    "plt.plot(y)"
   ]
  },
  {
   "cell_type": "code",
   "execution_count": 234,
   "metadata": {},
   "outputs": [
    {
     "data": {
      "text/plain": [
       "Datetime\n",
       "2019-11-01     16990\n",
       "2019-11-02      9980\n",
       "2019-11-03      4990\n",
       "2019-11-04      8990\n",
       "2019-11-05     50580\n",
       "2019-11-06     26970\n",
       "2019-11-07     22970\n",
       "2019-11-08     22420\n",
       "2019-11-09     13980\n",
       "2019-11-10      9980\n",
       "2019-11-11    109690\n",
       "2019-11-12     69940\n",
       "2019-11-13     21480\n",
       "2019-11-14     87920\n",
       "2019-11-15     39960\n",
       "2019-11-16     37500\n",
       "2019-11-17     47960\n",
       "2019-11-18     22970\n",
       "2019-11-19     48950\n",
       "2019-11-20     81900\n",
       "2019-11-21     22970\n",
       "2019-11-22     17980\n",
       "2019-11-25     21480\n",
       "2019-11-26     64390\n",
       "2019-11-28     53170\n",
       "2019-11-29     48980\n",
       "2019-11-30     39960\n",
       "2019-12-01     15000\n",
       "2019-12-02     46930\n",
       "2019-12-03     18970\n",
       "               ...  \n",
       "2019-12-27     52290\n",
       "2019-12-28      8990\n",
       "2019-12-29      5889\n",
       "2019-12-30     49480\n",
       "2020-01-01      8990\n",
       "2020-01-03     13880\n",
       "2020-01-04     16990\n",
       "2020-01-05     28950\n",
       "2020-01-06     13980\n",
       "2020-01-08     16490\n",
       "2020-01-09     36950\n",
       "2020-01-10     39460\n",
       "2020-01-13     56450\n",
       "2020-01-14     45970\n",
       "2020-01-15      9980\n",
       "2020-01-16     31460\n",
       "2020-01-17     46610\n",
       "2020-01-18     19960\n",
       "2020-01-19     52950\n",
       "2020-01-20     58550\n",
       "2020-01-21     27960\n",
       "2020-01-22     22720\n",
       "2020-01-23     17980\n",
       "2020-01-24     13980\n",
       "2020-01-25     49940\n",
       "2020-01-26     13980\n",
       "2020-01-27     69280\n",
       "2020-01-28     83910\n",
       "2020-01-29     40520\n",
       "2020-01-30      4990\n",
       "Name: Сумма подтверждения, Length: 81, dtype: int64"
      ]
     },
     "execution_count": 234,
     "metadata": {},
     "output_type": "execute_result"
    }
   ],
   "source": [
    "y"
   ]
  },
  {
   "cell_type": "code",
   "execution_count": 235,
   "metadata": {},
   "outputs": [
    {
     "data": {
      "text/plain": [
       "32633.716049382718"
      ]
     },
     "execution_count": 235,
     "metadata": {},
     "output_type": "execute_result"
    }
   ],
   "source": [
    "y.mean() # Daily average income"
   ]
  },
  {
   "cell_type": "code",
   "execution_count": 236,
   "metadata": {},
   "outputs": [],
   "source": [
    "# Sales by client identified by email"
   ]
  },
  {
   "cell_type": "code",
   "execution_count": 237,
   "metadata": {},
   "outputs": [
    {
     "data": {
      "text/plain": [
       "Email клиента\n",
       "p_kharchenko@live.ru         71940\n",
       "yaroslav796@list.ru          58370\n",
       "olgarossohan@gmail.com       55523\n",
       "logo100333@mail.ru           54000\n",
       "l.zavodova@mail.ru           51470\n",
       "oay75rus@mail.ru             50970\n",
       "doctor-vrach@mail.ru         50970\n",
       "akropus2@gmail.com           50493\n",
       "taesinandrey@yandex.ru       50024\n",
       "anna-valdez@mail.ru          50024\n",
       "samsonova.n1982@yandex.ru    49980\n",
       "alekseevauliania@mail.ru     49980\n",
       "korado-melsi@rambler.ru      49796\n",
       "hank.petrov@yandex.ru        47960\n",
       "juliazotov@mail.ru           47340\n",
       "dvpak@mts.ru                 46500\n",
       "isnp_111@mail.ru             46480\n",
       "darya.tea@yandex.ru          44821\n",
       "fokus.1989@list.ru           43950\n",
       "dm.temchenko@mail.ru         43370\n",
       "Name: Сумма подтверждения, dtype: int64"
      ]
     },
     "execution_count": 237,
     "metadata": {},
     "output_type": "execute_result"
    }
   ],
   "source": [
    "transactions[transactions['Состояние'] == 'Завершён'].groupby(by='Email клиента')['Сумма подтверждения'].sum().sort_values(ascending=False).head(20)"
   ]
  },
  {
   "cell_type": "code",
   "execution_count": 238,
   "metadata": {},
   "outputs": [
    {
     "data": {
      "text/plain": [
       "Email клиента\n",
       "0001231@mail.ru                 17940.0\n",
       "0220020@mail.ru                 12219.0\n",
       "02@mts.ru                       11586.5\n",
       "03.1980@mail.ru                  4990.0\n",
       "0321000@bk.ru                   11586.5\n",
       "04@mts.ru                       26880.0\n",
       "11anonka11@gmail.com             8990.0\n",
       "14112004n@gmail.com              8990.0\n",
       "19247@m.ru                      16990.0\n",
       "2000-nikita-larionov@mail.ru     4990.0\n",
       "5421142@gmail.com               12219.0\n",
       "5na6@mail.ru                    16990.0\n",
       "5svetochka@list.ru              26880.0\n",
       "7405@mail.ru                     5233.0\n",
       "79062657924@mail.ru              4990.0\n",
       "79110805895@m.ru                12990.0\n",
       "79134887336@yandex.ru            8990.0\n",
       "8808833@mail.ru                  5233.0\n",
       "89110833000@mail.ru              4990.0\n",
       "89194430027@mail.ru             26880.0\n",
       "Name: Сумма подтверждения, dtype: float64"
      ]
     },
     "execution_count": 238,
     "metadata": {},
     "output_type": "execute_result"
    }
   ],
   "source": [
    "transactions[(transactions['Состояние'] == 'Завершён') & (transactions['Сумма подтверждения'] > 3000)].groupby(by='Email клиента')['Сумма подтверждения'].mean().head(20)\n"
   ]
  },
  {
   "cell_type": "code",
   "execution_count": 199,
   "metadata": {},
   "outputs": [],
   "source": [
    "# Declined transactions"
   ]
  },
  {
   "cell_type": "code",
   "execution_count": 200,
   "metadata": {},
   "outputs": [
    {
     "data": {
      "text/plain": [
       "Month_general\n",
       "2018.04      5\n",
       "2018.05     72\n",
       "2018.06     61\n",
       "2018.07     54\n",
       "2018.08     83\n",
       "2018.09     48\n",
       "2018.10     60\n",
       "2018.11    102\n",
       "2018.12    149\n",
       "2019.01    119\n",
       "2019.02     60\n",
       "2019.03    207\n",
       "2019.04    117\n",
       "2019.05    212\n",
       "2019.06    247\n",
       "2019.07    135\n",
       "2019.08    162\n",
       "2019.09    180\n",
       "2019.10    183\n",
       "2019.11    182\n",
       "2019.12    211\n",
       "2020.01    132\n",
       "Name: Код ответа процессинга, dtype: int64"
      ]
     },
     "execution_count": 200,
     "metadata": {},
     "output_type": "execute_result"
    }
   ],
   "source": [
    "transactions[transactions['Состояние'] == 'Отклонён'].groupby(by='Month_general')['Код ответа процессинга'].count()"
   ]
  },
  {
   "cell_type": "code",
   "execution_count": 41,
   "metadata": {},
   "outputs": [],
   "source": [
    "# transactions[transactions['Состояние'] == 'Отклонён'].to_excel(\"/Users/stellarnode/Desktop/output.xlsx\")"
   ]
  },
  {
   "cell_type": "code",
   "execution_count": null,
   "metadata": {},
   "outputs": [],
   "source": []
  },
  {
   "cell_type": "code",
   "execution_count": null,
   "metadata": {},
   "outputs": [],
   "source": []
  }
 ],
 "metadata": {
  "kernelspec": {
   "display_name": "Python 3",
   "language": "python",
   "name": "python3"
  },
  "language_info": {
   "codemirror_mode": {
    "name": "ipython",
    "version": 3
   },
   "file_extension": ".py",
   "mimetype": "text/x-python",
   "name": "python",
   "nbconvert_exporter": "python",
   "pygments_lexer": "ipython3",
   "version": "3.7.3"
  }
 },
 "nbformat": 4,
 "nbformat_minor": 2
}
