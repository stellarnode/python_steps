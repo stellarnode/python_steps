{
 "cells": [
  {
   "cell_type": "code",
   "execution_count": 2,
   "metadata": {},
   "outputs": [],
   "source": [
    "from skyfield.api import load\n",
    "from skyfield.api import Topos"
   ]
  },
  {
   "cell_type": "code",
   "execution_count": 3,
   "metadata": {},
   "outputs": [
    {
     "name": "stderr",
     "output_type": "stream",
     "text": [
      "[#################################] 100% de421.bsp\n"
     ]
    }
   ],
   "source": [
    "planets = load('de421.bsp')"
   ]
  },
  {
   "cell_type": "code",
   "execution_count": 26,
   "metadata": {},
   "outputs": [],
   "source": [
    "earth, mars, moon, sun = planets['earth'], planets['mars'], planets['moon'], planets['sun']"
   ]
  },
  {
   "cell_type": "code",
   "execution_count": 62,
   "metadata": {},
   "outputs": [],
   "source": [
    "ts = load.timescale()\n",
    "t = ts.now()\n",
    "astrometric = earth.at(t).observe(moon)\n",
    "ra, dec, distance = astrometric.radec()"
   ]
  },
  {
   "cell_type": "code",
   "execution_count": 52,
   "metadata": {},
   "outputs": [
    {
     "name": "stdout",
     "output_type": "stream",
     "text": [
      "09h 59m 15.54s +16deg 25' 22.0\" 0.00241644 au\n"
     ]
    }
   ],
   "source": [
    "print(ra, dec, distance)"
   ]
  },
  {
   "cell_type": "code",
   "execution_count": 53,
   "metadata": {},
   "outputs": [],
   "source": [
    "# dir(astrometric)"
   ]
  },
  {
   "cell_type": "code",
   "execution_count": 54,
   "metadata": {},
   "outputs": [],
   "source": [
    "moscow = earth + Topos('55.772592 N', '37.585578 E')\n",
    "astrometric = moscow.at(t).observe(mars)\n",
    "alt, az, d = astrometric.apparent().altaz()"
   ]
  },
  {
   "cell_type": "code",
   "execution_count": 55,
   "metadata": {},
   "outputs": [
    {
     "name": "stdout",
     "output_type": "stream",
     "text": [
      "-57deg 39' 18.0\" 03deg 31' 48.7\"\n"
     ]
    }
   ],
   "source": [
    "print(alt, az)"
   ]
  },
  {
   "cell_type": "code",
   "execution_count": 56,
   "metadata": {},
   "outputs": [],
   "source": [
    "# dir(astrometric)"
   ]
  },
  {
   "cell_type": "code",
   "execution_count": 57,
   "metadata": {},
   "outputs": [
    {
     "data": {
      "text/plain": [
       "['__class__',\n",
       " '__delattr__',\n",
       " '__dict__',\n",
       " '__dir__',\n",
       " '__doc__',\n",
       " '__eq__',\n",
       " '__format__',\n",
       " '__ge__',\n",
       " '__getattribute__',\n",
       " '__getitem__',\n",
       " '__gt__',\n",
       " '__hash__',\n",
       " '__init__',\n",
       " '__init_subclass__',\n",
       " '__le__',\n",
       " '__lt__',\n",
       " '__module__',\n",
       " '__ne__',\n",
       " '__new__',\n",
       " '__reduce__',\n",
       " '__reduce_ex__',\n",
       " '__repr__',\n",
       " '__setattr__',\n",
       " '__sizeof__',\n",
       " '__str__',\n",
       " '__sub__',\n",
       " '__subclasshook__',\n",
       " '__weakref__',\n",
       " '_default_center',\n",
       " '_to_spice_frame',\n",
       " 'altaz',\n",
       " 'center',\n",
       " 'cirs_radec',\n",
       " 'cirs_xyz',\n",
       " 'distance',\n",
       " 'ecliptic_latlon',\n",
       " 'ecliptic_position',\n",
       " 'ecliptic_velocity',\n",
       " 'ecliptic_xyz',\n",
       " 'frame_xyz',\n",
       " 'from_altaz',\n",
       " 'galactic_latlon',\n",
       " 'galactic_position',\n",
       " 'galactic_xyz',\n",
       " 'observer_data',\n",
       " 'position',\n",
       " 'radec',\n",
       " 'separation_from',\n",
       " 'speed',\n",
       " 't',\n",
       " 'target',\n",
       " 'to_skycoord',\n",
       " 'velocity']"
      ]
     },
     "execution_count": 57,
     "metadata": {},
     "output_type": "execute_result"
    }
   ],
   "source": [
    "dir(astrometric.apparent())"
   ]
  },
  {
   "cell_type": "code",
   "execution_count": 70,
   "metadata": {},
   "outputs": [
    {
     "name": "stdout",
     "output_type": "stream",
     "text": [
      "(<Angle +49deg 02' 52.2\">, <Angle 220deg 13' 57.1\">, <Distance 0.00239608 au>)\n"
     ]
    }
   ],
   "source": [
    "print(astrometric.apparent().ecliptic_latlon())"
   ]
  },
  {
   "cell_type": "code",
   "execution_count": 59,
   "metadata": {},
   "outputs": [],
   "source": [
    "## 55°45′21″N 37°37′2″E"
   ]
  },
  {
   "cell_type": "code",
   "execution_count": 60,
   "metadata": {},
   "outputs": [],
   "source": [
    "lat = 55 + 45/60 + 21/(60*60)\n",
    "lon = 37 + 37/60 + 2/(60*60)\n",
    "moscow_official_center = earth + Topos('{} N'.format(lat), '{} E'.format(lon))"
   ]
  },
  {
   "cell_type": "code",
   "execution_count": 73,
   "metadata": {},
   "outputs": [
    {
     "name": "stdout",
     "output_type": "stream",
     "text": [
      "28deg 03' 22.9\" 104deg 01' 05.5\"\n",
      "(<Angle +03deg 21' 57.1\">, <Angle 146deg 58' 45.3\">, <Distance 0.00239608 au>)\n"
     ]
    }
   ],
   "source": [
    "astrometric = moscow.at(t).observe(moon)\n",
    "alt, az, d = astrometric.apparent().altaz()\n",
    "print(alt, az)\n",
    "print(astrometric.apparent().ecliptic_latlon())"
   ]
  },
  {
   "cell_type": "code",
   "execution_count": 48,
   "metadata": {},
   "outputs": [
    {
     "data": {
      "text/plain": [
       "['__add__',\n",
       " '__class__',\n",
       " '__delattr__',\n",
       " '__dict__',\n",
       " '__dir__',\n",
       " '__doc__',\n",
       " '__eq__',\n",
       " '__format__',\n",
       " '__ge__',\n",
       " '__getattribute__',\n",
       " '__gt__',\n",
       " '__hash__',\n",
       " '__init__',\n",
       " '__init_subclass__',\n",
       " '__le__',\n",
       " '__lt__',\n",
       " '__module__',\n",
       " '__ne__',\n",
       " '__new__',\n",
       " '__reduce__',\n",
       " '__reduce_ex__',\n",
       " '__repr__',\n",
       " '__setattr__',\n",
       " '__sizeof__',\n",
       " '__str__',\n",
       " '__sub__',\n",
       " '__subclasshook__',\n",
       " '__weakref__',\n",
       " '_at',\n",
       " '_observe_from_bcrs',\n",
       " '_snag_observer_data',\n",
       " 'at',\n",
       " 'center',\n",
       " 'center_name',\n",
       " 'ephemeris',\n",
       " 'geometry_of',\n",
       " 'negatives',\n",
       " 'positives',\n",
       " 'satellite',\n",
       " 'target',\n",
       " 'target_name',\n",
       " 'topos']"
      ]
     },
     "execution_count": 48,
     "metadata": {},
     "output_type": "execute_result"
    }
   ],
   "source": [
    "dir(moscow)"
   ]
  },
  {
   "cell_type": "code",
   "execution_count": 50,
   "metadata": {},
   "outputs": [
    {
     "name": "stdout",
     "output_type": "stream",
     "text": [
      "<Astrometric ICRS position and velocity at date t center=<object object at 0x7ff2f951b880> target=301>\n"
     ]
    }
   ],
   "source": [
    "print(moscow.at(t).observe(moon))"
   ]
  },
  {
   "cell_type": "code",
   "execution_count": null,
   "metadata": {},
   "outputs": [],
   "source": []
  }
 ],
 "metadata": {
  "kernelspec": {
   "display_name": "Python 3",
   "language": "python",
   "name": "python3"
  },
  "language_info": {
   "codemirror_mode": {
    "name": "ipython",
    "version": 3
   },
   "file_extension": ".py",
   "mimetype": "text/x-python",
   "name": "python",
   "nbconvert_exporter": "python",
   "pygments_lexer": "ipython3",
   "version": "3.7.3"
  }
 },
 "nbformat": 4,
 "nbformat_minor": 2
}
