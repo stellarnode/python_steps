{
 "cells": [
  {
   "cell_type": "code",
   "execution_count": 55,
   "metadata": {},
   "outputs": [],
   "source": [
    "import numpy as np\n",
    "import pandas as pd\n",
    "import matplotlib.pyplot as plt\n",
    "import seaborn as sns\n",
    "\n",
    "import requests\n",
    "from bs4 import BeautifulSoup as bs\n",
    "\n",
    "%matplotlib inline"
   ]
  },
  {
   "cell_type": "code",
   "execution_count": 56,
   "metadata": {},
   "outputs": [],
   "source": [
    "tickers = ['NFLX', 'AMZN', 'GOOG']"
   ]
  },
  {
   "cell_type": "code",
   "execution_count": 57,
   "metadata": {},
   "outputs": [],
   "source": [
    "data = requests.get('https://finviz.com/quote.ashx?t=amzn')"
   ]
  },
  {
   "cell_type": "code",
   "execution_count": 58,
   "metadata": {},
   "outputs": [],
   "source": [
    "soup = bs(data.text, 'html.parser')"
   ]
  },
  {
   "cell_type": "code",
   "execution_count": 59,
   "metadata": {},
   "outputs": [],
   "source": [
    "# atr = soup.find('td', {'class': 'snapshot-td2-cp'}, text='ATR')"
   ]
  },
  {
   "cell_type": "code",
   "execution_count": 60,
   "metadata": {},
   "outputs": [],
   "source": [
    "# atr_value = float(atr.nextSibling.text)"
   ]
  },
  {
   "cell_type": "code",
   "execution_count": 61,
   "metadata": {},
   "outputs": [],
   "source": [
    "# atr_value"
   ]
  },
  {
   "cell_type": "code",
   "execution_count": 62,
   "metadata": {},
   "outputs": [],
   "source": [
    "metrics_table = soup.findAll('tr', {'class': 'table-dark-row'})"
   ]
  },
  {
   "cell_type": "code",
   "execution_count": 63,
   "metadata": {},
   "outputs": [],
   "source": [
    "metrics = []\n",
    "values = []"
   ]
  },
  {
   "cell_type": "code",
   "execution_count": 64,
   "metadata": {},
   "outputs": [
    {
     "name": "stdout",
     "output_type": "stream",
     "text": [
      "['Index', 'P/E', 'EPS (ttm)', 'Insider Own', 'Shs Outstand', 'Perf Week', 'Market Cap', 'Forward P/E', 'EPS next Y', 'Insider Trans', 'Shs Float', 'Perf Month', 'Income', 'PEG', 'EPS next Q', 'Inst Own', 'Short Float', 'Perf Quarter', 'Sales', 'P/S', 'EPS this Y', 'Inst Trans', 'Short Ratio', 'Perf Half Y', 'Book/sh', 'P/B', 'EPS next Y', 'ROA', 'Target Price', 'Perf Year', 'Cash/sh', 'P/C', 'EPS next 5Y', 'ROE', '52W Range', 'Perf YTD', 'Dividend', 'P/FCF', 'EPS past 5Y', 'ROI', '52W High', 'Beta', 'Dividend %', 'Quick Ratio', 'Sales past 5Y', 'Gross Margin', '52W Low', 'ATR', 'Employees', 'Current Ratio', 'Sales Q/Q', 'Oper. Margin', 'RSI (14)', 'Volatility', 'Optionable', 'Debt/Eq', 'EPS Q/Q', 'Profit Margin', 'Rel Volume', 'Prev Close', 'Shortable', 'LT Debt/Eq', 'Earnings', 'Payout', 'Avg Volume', 'Price', 'Recom', 'SMA20', 'SMA50', 'SMA200', 'Volume', 'Change'] ['S&P 500', '101.01', '16.25', '16.20%', '510.00M', '-2.91%', '836.93B', '61.51', '26.68', '-0.08%', '409.64M', '-6.52%', '8.11B', '2.28', '5.55', '57.50%', '1.27%', '-15.37%', '220.96B', '3.79', '-7.10%', '-1.56%', '0.77', '-2.85%', '80.17', '20.47', '34.83%', '6.70%', '2136.26', '41.49%', '58.36', '28.12', '44.33%', '26.70%', '1157.00 - 2050.50', '40.32%', '-', '69.95', '122.80%', '3.50%', '-19.42%', '1.71', '-', '0.80', '23.80%', '39.90%', '42.81%', '72.74', '566000', '1.10', '29.30%', '4.90%', '50.25', '4.95% 4.06%', 'Yes', '1.21', '1026.20%', '4.00%', '0.88', '1641.03', 'Yes', '1.02', 'Jan 24 AMC', '0.00%', '6.75M', '1652.33', '1.70', '1.89%', '-3.41%', '-2.95%', '4,764,698', '0.69%']\n"
     ]
    }
   ],
   "source": [
    "for row in metrics_table:\n",
    "    text_entries = row.findAll('td', {'class': 'snapshot-td2-cp'})\n",
    "    for entry in text_entries:\n",
    "        metrics.append(entry.text)\n",
    "        values.append(entry.nextSibling.text)\n",
    "print(metrics, values)"
   ]
  },
  {
   "cell_type": "code",
   "execution_count": 65,
   "metadata": {},
   "outputs": [
    {
     "data": {
      "text/plain": [
       "Index                S&P 500\n",
       "P/E                   101.01\n",
       "EPS (ttm)              16.25\n",
       "Insider Own           16.20%\n",
       "Shs Outstand         510.00M\n",
       "Perf Week             -2.91%\n",
       "Market Cap           836.93B\n",
       "Forward P/E            61.51\n",
       "EPS next Y             26.68\n",
       "Insider Trans         -0.08%\n",
       "Shs Float            409.64M\n",
       "Perf Month            -6.52%\n",
       "Income                 8.11B\n",
       "PEG                     2.28\n",
       "EPS next Q              5.55\n",
       "Inst Own              57.50%\n",
       "Short Float            1.27%\n",
       "Perf Quarter         -15.37%\n",
       "Sales                220.96B\n",
       "P/S                     3.79\n",
       "EPS this Y            -7.10%\n",
       "Inst Trans            -1.56%\n",
       "Short Ratio             0.77\n",
       "Perf Half Y           -2.85%\n",
       "Book/sh                80.17\n",
       "P/B                    20.47\n",
       "EPS next Y            34.83%\n",
       "ROA                    6.70%\n",
       "Target Price         2136.26\n",
       "Perf Year             41.49%\n",
       "                    ...     \n",
       "Dividend %                 -\n",
       "Quick Ratio             0.80\n",
       "Sales past 5Y         23.80%\n",
       "Gross Margin          39.90%\n",
       "52W Low               42.81%\n",
       "ATR                    72.74\n",
       "Employees             566000\n",
       "Current Ratio           1.10\n",
       "Sales Q/Q             29.30%\n",
       "Oper. Margin           4.90%\n",
       "RSI (14)               50.25\n",
       "Volatility       4.95% 4.06%\n",
       "Optionable               Yes\n",
       "Debt/Eq                 1.21\n",
       "EPS Q/Q             1026.20%\n",
       "Profit Margin          4.00%\n",
       "Rel Volume              0.88\n",
       "Prev Close           1641.03\n",
       "Shortable                Yes\n",
       "LT Debt/Eq              1.02\n",
       "Earnings          Jan 24 AMC\n",
       "Payout                 0.00%\n",
       "Avg Volume             6.75M\n",
       "Price                1652.33\n",
       "Recom                   1.70\n",
       "SMA20                  1.89%\n",
       "SMA50                 -3.41%\n",
       "SMA200                -2.95%\n",
       "Volume             4,764,698\n",
       "Change                 0.69%\n",
       "Length: 72, dtype: object"
      ]
     },
     "execution_count": 65,
     "metadata": {},
     "output_type": "execute_result"
    }
   ],
   "source": [
    "ticker_data = pd.Series(values, index = metrics)\n",
    "ticker_data"
   ]
  },
  {
   "cell_type": "code",
   "execution_count": 53,
   "metadata": {},
   "outputs": [
    {
     "data": {
      "text/plain": [
       "str"
      ]
     },
     "execution_count": 53,
     "metadata": {},
     "output_type": "execute_result"
    }
   ],
   "source": [
    "type(ticker_data['P/E'])"
   ]
  },
  {
   "cell_type": "code",
   "execution_count": null,
   "metadata": {},
   "outputs": [],
   "source": []
  }
 ],
 "metadata": {
  "kernelspec": {
   "display_name": "Python 3",
   "language": "python",
   "name": "python3"
  },
  "language_info": {
   "codemirror_mode": {
    "name": "ipython",
    "version": 3
   },
   "file_extension": ".py",
   "mimetype": "text/x-python",
   "name": "python",
   "nbconvert_exporter": "python",
   "pygments_lexer": "ipython3",
   "version": "3.7.0"
  }
 },
 "nbformat": 4,
 "nbformat_minor": 2
}
