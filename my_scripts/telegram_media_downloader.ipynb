{
 "cells": [
  {
   "cell_type": "code",
   "execution_count": 35,
   "metadata": {},
   "outputs": [],
   "source": [
    "from telethon import TelegramClient, events, sync\n",
    "\n",
    "import telegram_media_downloader_creds as creds"
   ]
  },
  {
   "cell_type": "code",
   "execution_count": 36,
   "metadata": {},
   "outputs": [
    {
     "data": {
      "text/plain": [
       "<coroutine object AuthMethods._start at 0x7fb9f084a248>"
      ]
     },
     "execution_count": 36,
     "metadata": {},
     "output_type": "execute_result"
    }
   ],
   "source": [
    "# These example values won't work. You must get your own api_id and\n",
    "# api_hash from https://my.telegram.org, under API Development.\n",
    "api_id = creds.API_ID\n",
    "api_hash = creds.API_HASH\n",
    "\n",
    "client = TelegramClient('test3', api_id, api_hash)\n",
    "client.start()"
   ]
  },
  {
   "cell_type": "code",
   "execution_count": null,
   "metadata": {},
   "outputs": [],
   "source": [
    "print(client.get_me())"
   ]
  },
  {
   "cell_type": "code",
   "execution_count": 15,
   "metadata": {},
   "outputs": [],
   "source": [
    "?client.send_message"
   ]
  },
  {
   "cell_type": "code",
   "execution_count": 7,
   "metadata": {},
   "outputs": [
    {
     "data": {
      "text/plain": [
       "<coroutine object MessageMethods.send_message at 0x7fba705d85c8>"
      ]
     },
     "execution_count": 7,
     "metadata": {},
     "output_type": "execute_result"
    }
   ],
   "source": [
    "client.send_message('stellarnode', 'Hello! Talking to you from Telethon')\n",
    "# client.send_file('username', '/home/myself/Pictures/holidays.jpg')"
   ]
  },
  {
   "cell_type": "code",
   "execution_count": 25,
   "metadata": {},
   "outputs": [
    {
     "data": {
      "text/plain": [
       "<coroutine object DownloadMethods.download_profile_photo at 0x7fba40568ac8>"
      ]
     },
     "execution_count": 25,
     "metadata": {},
     "output_type": "execute_result"
    }
   ],
   "source": [
    "client.download_profile_photo('dailyzohartuneup')"
   ]
  },
  {
   "cell_type": "code",
   "execution_count": 38,
   "metadata": {},
   "outputs": [],
   "source": [
    "messages = client.get_messages('dztup')\n",
    "# messages[0].download_media()"
   ]
  },
  {
   "cell_type": "code",
   "execution_count": 33,
   "metadata": {},
   "outputs": [
    {
     "data": {
      "text/plain": [
       "['__await__',\n",
       " '__class__',\n",
       " '__del__',\n",
       " '__delattr__',\n",
       " '__dir__',\n",
       " '__doc__',\n",
       " '__eq__',\n",
       " '__format__',\n",
       " '__ge__',\n",
       " '__getattribute__',\n",
       " '__gt__',\n",
       " '__hash__',\n",
       " '__init__',\n",
       " '__init_subclass__',\n",
       " '__le__',\n",
       " '__lt__',\n",
       " '__name__',\n",
       " '__ne__',\n",
       " '__new__',\n",
       " '__qualname__',\n",
       " '__reduce__',\n",
       " '__reduce_ex__',\n",
       " '__repr__',\n",
       " '__setattr__',\n",
       " '__sizeof__',\n",
       " '__str__',\n",
       " '__subclasshook__',\n",
       " 'close',\n",
       " 'cr_await',\n",
       " 'cr_code',\n",
       " 'cr_frame',\n",
       " 'cr_origin',\n",
       " 'cr_running',\n",
       " 'send',\n",
       " 'throw']"
      ]
     },
     "execution_count": 33,
     "metadata": {},
     "output_type": "execute_result"
    }
   ],
   "source": [
    "dir(messages)"
   ]
  },
  {
   "cell_type": "code",
   "execution_count": 31,
   "metadata": {},
   "outputs": [
    {
     "ename": "TypeError",
     "evalue": "'coroutine' object is not iterable",
     "output_type": "error",
     "traceback": [
      "\u001b[0;31m---------------------------------------------------------------------------\u001b[0m",
      "\u001b[0;31mTypeError\u001b[0m                                 Traceback (most recent call last)",
      "\u001b[0;32m<ipython-input-31-7eb6f4eeaa3c>\u001b[0m in \u001b[0;36m<module>\u001b[0;34m\u001b[0m\n\u001b[0;32m----> 1\u001b[0;31m \u001b[0;32mfor\u001b[0m \u001b[0mmes\u001b[0m \u001b[0;32min\u001b[0m \u001b[0mmessages\u001b[0m\u001b[0;34m:\u001b[0m\u001b[0;34m\u001b[0m\u001b[0;34m\u001b[0m\u001b[0m\n\u001b[0m\u001b[1;32m      2\u001b[0m     \u001b[0mprint\u001b[0m\u001b[0;34m(\u001b[0m\u001b[0mmes\u001b[0m\u001b[0;34m)\u001b[0m\u001b[0;34m\u001b[0m\u001b[0;34m\u001b[0m\u001b[0m\n",
      "\u001b[0;31mTypeError\u001b[0m: 'coroutine' object is not iterable"
     ]
    }
   ],
   "source": [
    "for mes in messages:\n",
    "    print(mes)"
   ]
  },
  {
   "cell_type": "code",
   "execution_count": 29,
   "metadata": {},
   "outputs": [],
   "source": [
    "?client.get_messages"
   ]
  },
  {
   "cell_type": "code",
   "execution_count": 14,
   "metadata": {},
   "outputs": [
    {
     "name": "stdout",
     "output_type": "stream",
     "text": [
      "Object `messages.download_media` not found.\n"
     ]
    }
   ],
   "source": [
    "?messages.download_media"
   ]
  },
  {
   "cell_type": "code",
   "execution_count": null,
   "metadata": {},
   "outputs": [],
   "source": [
    "# @client.on(events.NewMessage(pattern='(?i)hi|hello'))\n",
    "# async def handler(event):\n",
    "#     await event.respond('Hey!')"
   ]
  },
  {
   "cell_type": "code",
   "execution_count": 19,
   "metadata": {},
   "outputs": [
    {
     "data": {
      "text/plain": [
       "['__abstractmethods__',\n",
       " '__aenter__',\n",
       " '__aexit__',\n",
       " '__call__',\n",
       " '__class__',\n",
       " '__delattr__',\n",
       " '__dict__',\n",
       " '__dir__',\n",
       " '__doc__',\n",
       " '__enter__',\n",
       " '__eq__',\n",
       " '__exit__',\n",
       " '__format__',\n",
       " '__ge__',\n",
       " '__getattribute__',\n",
       " '__gt__',\n",
       " '__hash__',\n",
       " '__init__',\n",
       " '__init_subclass__',\n",
       " '__le__',\n",
       " '__lt__',\n",
       " '__module__',\n",
       " '__ne__',\n",
       " '__new__',\n",
       " '__reduce__',\n",
       " '__reduce_ex__',\n",
       " '__repr__',\n",
       " '__setattr__',\n",
       " '__sizeof__',\n",
       " '__slots__',\n",
       " '__str__',\n",
       " '__subclasshook__',\n",
       " '__version__',\n",
       " '__weakref__',\n",
       " '_abc_impl',\n",
       " '_albums',\n",
       " '_auth_key_callback',\n",
       " '_authorized',\n",
       " '_auto_reconnect',\n",
       " '_borrow_exported_sender',\n",
       " '_borrow_sender_lock',\n",
       " '_borrowed_senders',\n",
       " '_bot',\n",
       " '_call',\n",
       " '_cdn_config',\n",
       " '_channel_pts',\n",
       " '_clean_exported_senders',\n",
       " '_config',\n",
       " '_connection',\n",
       " '_connection_retries',\n",
       " '_conversations',\n",
       " '_create_exported_sender',\n",
       " '_disconnect',\n",
       " '_disconnect_coro',\n",
       " '_dispatch_event',\n",
       " '_dispatch_queue_updates',\n",
       " '_dispatch_update',\n",
       " '_dispatching_updates_queue',\n",
       " '_download_cached_photo_size',\n",
       " '_download_contact',\n",
       " '_download_document',\n",
       " '_download_photo',\n",
       " '_download_web_document',\n",
       " '_entity_cache',\n",
       " '_event_builders',\n",
       " '_file_to_media',\n",
       " '_flood_sleep_threshold',\n",
       " '_flood_waited_requests',\n",
       " '_get_cdn_client',\n",
       " '_get_dc',\n",
       " '_get_difference',\n",
       " '_get_entity_from_string',\n",
       " '_get_input_dialog',\n",
       " '_get_input_notify',\n",
       " '_get_kind_and_names',\n",
       " '_get_proper_filename',\n",
       " '_get_response_message',\n",
       " '_get_thumb',\n",
       " '_handle_auto_reconnect',\n",
       " '_handle_update',\n",
       " '_init_with',\n",
       " '_last_request',\n",
       " '_log',\n",
       " '_loop',\n",
       " '_megagroup_cache',\n",
       " '_on_login',\n",
       " '_parse_message_text',\n",
       " '_parse_mode',\n",
       " '_parse_phone_and_hash',\n",
       " '_phone',\n",
       " '_phone_code_hash',\n",
       " '_process_update',\n",
       " '_proxy',\n",
       " '_replace_with_mention',\n",
       " '_request_retries',\n",
       " '_retry_delay',\n",
       " '_return_exported_sender',\n",
       " '_run_until_disconnected',\n",
       " '_self_input_peer',\n",
       " '_send_album',\n",
       " '_sender',\n",
       " '_start',\n",
       " '_state_cache',\n",
       " '_switch_dc',\n",
       " '_timeout',\n",
       " '_tos',\n",
       " '_update_loop',\n",
       " '_updates_handle',\n",
       " '_updates_queue',\n",
       " '_use_ipv6',\n",
       " 'action',\n",
       " 'add_event_handler',\n",
       " 'api_hash',\n",
       " 'api_id',\n",
       " 'build_reply_markup',\n",
       " 'catch_up',\n",
       " 'connect',\n",
       " 'conversation',\n",
       " 'delete_dialog',\n",
       " 'delete_messages',\n",
       " 'disconnect',\n",
       " 'disconnected',\n",
       " 'download_file',\n",
       " 'download_media',\n",
       " 'download_profile_photo',\n",
       " 'edit_2fa',\n",
       " 'edit_admin',\n",
       " 'edit_folder',\n",
       " 'edit_message',\n",
       " 'edit_permissions',\n",
       " 'end_takeout',\n",
       " 'flood_sleep_threshold',\n",
       " 'forward_messages',\n",
       " 'get_admin_log',\n",
       " 'get_dialogs',\n",
       " 'get_drafts',\n",
       " 'get_entity',\n",
       " 'get_input_entity',\n",
       " 'get_me',\n",
       " 'get_messages',\n",
       " 'get_participants',\n",
       " 'get_peer_id',\n",
       " 'get_profile_photos',\n",
       " 'get_stats',\n",
       " 'inline_query',\n",
       " 'is_bot',\n",
       " 'is_connected',\n",
       " 'is_user_authorized',\n",
       " 'iter_admin_log',\n",
       " 'iter_dialogs',\n",
       " 'iter_download',\n",
       " 'iter_drafts',\n",
       " 'iter_messages',\n",
       " 'iter_participants',\n",
       " 'iter_profile_photos',\n",
       " 'kick_participant',\n",
       " 'list_event_handlers',\n",
       " 'log_out',\n",
       " 'loop',\n",
       " 'on',\n",
       " 'parse_mode',\n",
       " 'pin_message',\n",
       " 'qr_login',\n",
       " 'remove_event_handler',\n",
       " 'run_until_disconnected',\n",
       " 'send_code_request',\n",
       " 'send_file',\n",
       " 'send_message',\n",
       " 'send_read_acknowledge',\n",
       " 'session',\n",
       " 'sign_in',\n",
       " 'sign_up',\n",
       " 'start',\n",
       " 'takeout',\n",
       " 'upload_file']"
      ]
     },
     "execution_count": 19,
     "metadata": {},
     "output_type": "execute_result"
    }
   ],
   "source": [
    "dir(client)"
   ]
  },
  {
   "cell_type": "code",
   "execution_count": 20,
   "metadata": {},
   "outputs": [
    {
     "data": {
      "text/plain": [
       "<coroutine object TelegramBaseClient._disconnect_coro at 0x7fba705d8748>"
      ]
     },
     "execution_count": 20,
     "metadata": {},
     "output_type": "execute_result"
    }
   ],
   "source": [
    "client.disconnect()"
   ]
  },
  {
   "cell_type": "code",
   "execution_count": null,
   "metadata": {},
   "outputs": [],
   "source": []
  }
 ],
 "metadata": {
  "kernelspec": {
   "display_name": "Python 3",
   "language": "python",
   "name": "python3"
  },
  "language_info": {
   "codemirror_mode": {
    "name": "ipython",
    "version": 3
   },
   "file_extension": ".py",
   "mimetype": "text/x-python",
   "name": "python",
   "nbconvert_exporter": "python",
   "pygments_lexer": "ipython3",
   "version": "3.7.3"
  }
 },
 "nbformat": 4,
 "nbformat_minor": 2
}
